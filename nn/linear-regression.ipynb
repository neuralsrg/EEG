{
 "cells": [
  {
   "cell_type": "markdown",
   "id": "195b1e03",
   "metadata": {},
   "source": [
    "# Linear Regression approach"
   ]
  },
  {
   "cell_type": "code",
   "execution_count": 1,
   "id": "e05ebd5c",
   "metadata": {},
   "outputs": [],
   "source": [
    "import torch \n",
    "import torch.nn as nn \n",
    "from torch.utils.data import DataLoader, sampler\n",
    "import matplotlib.pyplot as plt\n",
    "import scipy\n",
    "import scipy.signal\n",
    "import numpy as np\n",
    "import librosa\n",
    "import librosa.display\n",
    "from scipy.io import wavfile\n",
    "import numpy as np\n",
    "\n",
    "%matplotlib inline\n",
    "plt.rcParams['figure.figsize'] = (15.0, 4.0)"
   ]
  },
  {
   "cell_type": "markdown",
   "id": "7f95ba66",
   "metadata": {},
   "source": [
    "### Loading data "
   ]
  },
  {
   "cell_type": "code",
   "execution_count": 4,
   "id": "ff3f0b33",
   "metadata": {},
   "outputs": [
    {
     "name": "stdout",
     "output_type": "stream",
     "text": [
      "(990, 1176) (990, 1542)\n"
     ]
    }
   ],
   "source": [
    "A = np.loadtxt('/home/srg/Documents/MSU/EEG/data/50ms/A.csv', delimiter=',', ndmin=2)\n",
    "B = np.loadtxt('/home/srg/Documents/MSU/EEG/data/50ms/B.csv', delimiter=',', ndmin=2)\n",
    "print(A.shape, B.shape)"
   ]
  },
  {
   "cell_type": "markdown",
   "id": "31d37ad0",
   "metadata": {},
   "source": [
    "### Splitting into train & dev sets"
   ]
  },
  {
   "cell_type": "code",
   "execution_count": 6,
   "id": "998623b6",
   "metadata": {},
   "outputs": [
    {
     "data": {
      "text/plain": [
       "(25586, 1177)"
      ]
     },
     "execution_count": 6,
     "metadata": {},
     "output_type": "execute_result"
    }
   ],
   "source": [
    "bash = np.loadtxt('/home/srg/Documents/MSU/EEG/data/50ms/bash.csv', delimiter=',', ndmin=2)\n",
    "bash.shape"
   ]
  },
  {
   "cell_type": "code",
   "execution_count": 8,
   "id": "069d6d99",
   "metadata": {},
   "outputs": [
    {
     "data": {
      "text/plain": [
       "array([0., 0., 0., ..., 0., 0., 0.])"
      ]
     },
     "execution_count": 8,
     "metadata": {},
     "output_type": "execute_result"
    }
   ],
   "source": [
    "bash[:, 0] == 11"
   ]
  },
  {
   "cell_type": "markdown",
   "id": "c9dceb5f",
   "metadata": {},
   "source": [
    "### Hyper parameters "
   ]
  },
  {
   "cell_type": "code",
   "execution_count": 5,
   "id": "e5ef8cd9",
   "metadata": {},
   "outputs": [],
   "source": [
    "input_size = A.shape[1]\n",
    "hidden_size = 500 \n",
    "num_epochs = 500\n",
    "batch_size = 90 # should be a multiple of 9\n",
    "learning_rate = 0.001"
   ]
  },
  {
   "cell_type": "code",
   "execution_count": null,
   "id": "90be2e8d",
   "metadata": {},
   "outputs": [],
   "source": [
    "### Dataloader"
   ]
  }
 ],
 "metadata": {
  "kernelspec": {
   "display_name": "Python 3 (ipykernel)",
   "language": "python",
   "name": "python3"
  },
  "language_info": {
   "codemirror_mode": {
    "name": "ipython",
    "version": 3
   },
   "file_extension": ".py",
   "mimetype": "text/x-python",
   "name": "python",
   "nbconvert_exporter": "python",
   "pygments_lexer": "ipython3",
   "version": "3.8.10"
  }
 },
 "nbformat": 4,
 "nbformat_minor": 5
}
