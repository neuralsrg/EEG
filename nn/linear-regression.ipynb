{
 "cells": [
  {
   "cell_type": "markdown",
   "id": "f39a0a39",
   "metadata": {},
   "source": [
    "# Linear Regression approach"
   ]
  },
  {
   "cell_type": "code",
   "execution_count": 1,
   "id": "c46439f7",
   "metadata": {},
   "outputs": [],
   "source": [
    "import torch \n",
    "import torch.nn as nn \n",
    "from torch.utils.data import Dataset, DataLoader\n",
    "import matplotlib.pyplot as plt\n",
    "import scipy\n",
    "import scipy.signal\n",
    "import numpy as np\n",
    "import librosa\n",
    "import librosa.display\n",
    "from scipy.io import wavfile\n",
    "import numpy as np\n",
    "from torch.utils.tensorboard import SummaryWriter\n",
    "\n",
    "%matplotlib inline\n",
    "plt.rcParams['figure.figsize'] = (15.0, 4.0)"
   ]
  },
  {
   "cell_type": "markdown",
   "id": "7189027c",
   "metadata": {},
   "source": [
    "### Loading data "
   ]
  },
  {
   "cell_type": "code",
   "execution_count": 2,
   "id": "451a67bc",
   "metadata": {},
   "outputs": [
    {
     "name": "stdout",
     "output_type": "stream",
     "text": [
      "(900, 1176) torch.Size([10, 9, 1176]) (900, 1542) torch.Size([10, 9, 1542])\n"
     ]
    }
   ],
   "source": [
    "A_train = np.loadtxt('/home/srg/Documents/MSU/EEG/data/50ms/A_train.csv', delimiter=',', ndmin=2)\n",
    "A_dev = np.loadtxt('/home/srg/Documents/MSU/EEG/data/50ms/A_dev.csv', delimiter=',', ndmin=2)\n",
    "\n",
    "B_train = np.loadtxt('/home/srg/Documents/MSU/EEG/data/50ms/B_train.csv', delimiter=',', ndmin=2)\n",
    "B_dev = np.loadtxt('/home/srg/Documents/MSU/EEG/data/50ms/B_dev.csv', delimiter=',', ndmin=2)\n",
    "\n",
    "A_dev = torch.from_numpy(A_dev.reshape(10, 9, -1))\n",
    "B_dev = torch.from_numpy(B_dev.reshape(10, 9, -1))\n",
    "print(A_train.shape, A_dev.shape, B_train.shape, B_dev.shape)"
   ]
  },
  {
   "cell_type": "markdown",
   "id": "a5ee65b8",
   "metadata": {},
   "source": [
    "### Hyper parameters "
   ]
  },
  {
   "cell_type": "code",
   "execution_count": 39,
   "id": "0f7024f9",
   "metadata": {},
   "outputs": [],
   "source": [
    "input_size = A_train.shape[1]\n",
    "hidden_size = 500 \n",
    "num_epochs = 5000\n",
    "batch_size = 10\n",
    "learning_rate = 0.001\n",
    "\n",
    "FRAME_SIZE = 512\n",
    "SR = 22050\n",
    "HOP_LENGTH = 118"
   ]
  },
  {
   "cell_type": "markdown",
   "id": "56d1c754",
   "metadata": {},
   "source": [
    "### Dataloader"
   ]
  },
  {
   "cell_type": "code",
   "execution_count": 40,
   "id": "8bf7d51a",
   "metadata": {},
   "outputs": [],
   "source": [
    "class Loader(Dataset):\n",
    "\n",
    "    def __init__(self):\n",
    "\n",
    "        self.n_samples = int(A_train.shape[0] / 9)\n",
    "\n",
    "        self.x_data = torch.from_numpy(A_train)\n",
    "        self.y_data = torch.from_numpy(B_train)\n",
    "\n",
    "    def __getitem__(self, index):\n",
    "        return self.x_data[index * 9 : (index + 1) * 9, :], self.y_data[index * 9 : (index + 1) * 9, :]\n",
    "\n",
    "    def __len__(self):\n",
    "        return self.n_samples"
   ]
  },
  {
   "cell_type": "code",
   "execution_count": 41,
   "id": "abf73200",
   "metadata": {},
   "outputs": [],
   "source": [
    "train_loader = DataLoader(dataset=Loader(),\n",
    "                          batch_size=batch_size,\n",
    "                          shuffle=True)"
   ]
  },
  {
   "cell_type": "markdown",
   "id": "5883a9cc",
   "metadata": {},
   "source": [
    "### Model "
   ]
  },
  {
   "cell_type": "code",
   "execution_count": 42,
   "id": "72dca788",
   "metadata": {},
   "outputs": [],
   "source": [
    "class Model(nn.Module):\n",
    "\n",
    "    def __init__(self, input_size, hidden_size, out_size):\n",
    "        super(Model, self).__init__()\n",
    "        self.l1 = nn.Linear(input_size, hidden_size)\n",
    "        self.relu = nn.ReLU()\n",
    "        self.l2 = nn.Linear(hidden_size, out_size)\n",
    "\n",
    "    def forward(self, x):\n",
    "        out = self.l1(x)\n",
    "        out = self.relu(out)\n",
    "        out = self.l2(out)\n",
    "        return out"
   ]
  },
  {
   "cell_type": "code",
   "execution_count": 43,
   "id": "a7c8ba5b",
   "metadata": {},
   "outputs": [],
   "source": [
    "model = Model(A_train.shape[1], hidden_size, B_train.shape[1])\n",
    "model.double()\n",
    "criterion = nn.MSELoss()\n",
    "optimizer = torch.optim.Adam(model.parameters(), lr=learning_rate)\n",
    "total_samples = len(train_loader)"
   ]
  },
  {
   "cell_type": "markdown",
   "id": "f2580a8d",
   "metadata": {},
   "source": [
    "### Training"
   ]
  },
  {
   "cell_type": "code",
   "execution_count": 44,
   "id": "58e96254",
   "metadata": {},
   "outputs": [
    {
     "data": {
      "image/png": "[encoded data removed]",
      "text/plain": [
       "<Figure size 1080x288 with 1 Axes>"
      ]
     },
     "metadata": {
      "needs_background": "light"
     },
     "output_type": "display_data"
    }
   ],
   "source": [
    "writer_train = SummaryWriter(\"./runs/train\")\n",
    "writer.add_graph(model, A_dev[0])\n",
    "writer_dev = SummaryWriter(\"./runs/dev\")\n",
    "\n",
    "train_losses = np.empty(0)\n",
    "dev_losses = np.empty(0)\n",
    "\n",
    "for epoch in range(num_epochs):\n",
    "\n",
    "    for i, (a, b) in enumerate(train_loader):\n",
    "        \n",
    "        # forward pass\n",
    "        outputs = model(a)\n",
    "        loss = criterion(outputs, b)\n",
    "\n",
    "        # backward pass\n",
    "        optimizer.zero_grad()\n",
    "        loss.backward()\n",
    "        optimizer.step()\n",
    "\n",
    "        # info \n",
    "        with torch.no_grad():\n",
    "            train_losses = np.append(train_losses, loss)\n",
    "            writer_train.add_scalar('loss', loss.item(), global_step=epoch*len(train_loader)+i)\n",
    "            outputs = model(A_dev)\n",
    "            loss = criterion(outputs, B_dev)\n",
    "            dev_losses = np.append(dev_losses, loss)\n",
    "            writer_dev.add_scalar('loss', loss.item(), global_step=epoch*len(train_loader)+i)\n",
    "            \n",
    "\n",
    "writer_train.close()\n",
    "writer_dev.close()\n",
    "plt.plot(train_losses, label='train')\n",
    "plt.plot(dev_losses, label='dev')\n",
    "plt.legend()\n",
    "plt.show()"
   ]
  },
  {
   "cell_type": "markdown",
   "id": "e49ed439",
   "metadata": {},
   "source": [
    "### Testing"
   ]
  },
  {
   "cell_type": "code",
   "execution_count": 26,
   "id": "3a18168f",
   "metadata": {},
   "outputs": [],
   "source": [
    "def restore(D, frame_size, hop_length, epochs=100, window='hann'):\n",
    "    \n",
    "    D = np.concatenate((np.zeros((D.shape[0], 1)), D, np.zeros((D.shape[0], 1))), axis=1)\n",
    "    mag, _ = librosa.magphase(D)\n",
    "    #mag = np.abs(D)\n",
    "    \n",
    "    phase = np.exp(1.j * np.random.uniform(0., 2*np.pi, size=mag.shape))\n",
    "    x_ = librosa.istft(mag * phase, hop_length=hop_length, center=False, window=window)\n",
    "    \n",
    "    for i in range(epochs):\n",
    "        _, phase = librosa.magphase(librosa.stft(x_, n_fft=frame_size, hop_length=hop_length, center=False,\n",
    "                                                 window=window))\n",
    "        x_ = librosa.istft(mag * phase, hop_length=hop_length, center=False, window=window)\n",
    "        \n",
    "    return x_[hop_length:-hop_length]"
   ]
  },
  {
   "cell_type": "code",
   "execution_count": 45,
   "id": "9e5622c9",
   "metadata": {},
   "outputs": [
    {
     "name": "stdout",
     "output_type": "stream",
     "text": [
      "torch.Size([100, 9, 1542]) torch.Size([10, 9, 1542])\n"
     ]
    }
   ],
   "source": [
    "with torch.no_grad():\n",
    "    restored_train = model(torch.from_numpy(A_train.reshape(-1, 9, 1176)))\n",
    "    restored_dev = model(A_dev.reshape(-1, 9, 1176))\n",
    "    \n",
    "print(restored_train.shape, restored_dev.shape)"
   ]
  },
  {
   "cell_type": "code",
   "execution_count": 46,
   "id": "eecce6a1",
   "metadata": {},
   "outputs": [],
   "source": [
    "restored_train = restored_train.reshape(-1, 1542).numpy().reshape(-1, 6, 257).reshape(-1, 257).T\n",
    "restored_dev = restored_dev.reshape(-1, 1542).numpy().reshape(-1, 6, 257).reshape(-1, 257).T\n",
    "\n",
    "x_ = restore(restored_train, frame_size=FRAME_SIZE, hop_length=HOP_LENGTH, epochs=30)\n",
    "scipy.io.wavfile.write('/home/srg/Documents/MSU/EEG/data/50ms/1.wav', SR, x_)\n",
    "\n",
    "x_ = restore(restored_dev, frame_size=FRAME_SIZE, hop_length=HOP_LENGTH, epochs=30)\n",
    "scipy.io.wavfile.write('/home/srg/Documents/MSU/EEG/data/50ms/2.wav', SR, x_)"
   ]
  },
  {
   "cell_type": "code",
   "execution_count": null,
   "id": "d12a17cf",
   "metadata": {},
   "outputs": [],
   "source": []
  }
 ],
 "metadata": {
  "kernelspec": {
   "display_name": "Python 3 (ipykernel)",
   "language": "python",
   "name": "python3"
  },
  "language_info": {
   "codemirror_mode": {
    "name": "ipython",
    "version": 3
   },
   "file_extension": ".py",
   "mimetype": "text/x-python",
   "name": "python",
   "nbconvert_exporter": "python",
   "pygments_lexer": "ipython3",
   "version": "3.8.10"
  }
 },
 "nbformat": 4,
 "nbformat_minor": 5
}
