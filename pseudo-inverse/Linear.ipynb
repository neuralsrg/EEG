{
 "cells": [
  {
   "cell_type": "code",
   "execution_count": 220,
   "id": "c87ca455",
   "metadata": {},
   "outputs": [],
   "source": [
    "import numpy as np\n",
    "from matplotlib import pyplot as plt\n",
    "import torch\n",
    "from torch import nn\n",
    "import seaborn as sn\n",
    "\n",
    "from sklearn import preprocessing\n",
    "\n",
    "from sklearn.ensemble import IsolationForest\n",
    "from sklearn.svm import OneClassSVM\n",
    "from sklearn.ensemble import RandomForestClassifier\n",
    "from sklearn.linear_model import LogisticRegression\n",
    "from sklearn.naive_bayes import GaussianNB\n",
    "from sklearn.linear_model import SGDClassifier\n",
    "from sklearn.neighbors import KNeighborsClassifier\n",
    "from sklearn.tree import DecisionTreeClassifier\n",
    "from sklearn.svm import SVC\n",
    "\n",
    "import scipy\n",
    "import scipy.signal\n",
    "import numpy as np\n",
    "import librosa\n",
    "import librosa.display\n",
    "from scipy.io import wavfile\n",
    "import numpy as np"
   ]
  },
  {
   "cell_type": "code",
   "execution_count": 1,
   "id": "76cb1241",
   "metadata": {},
   "outputs": [],
   "source": [
    "# So we have:\n",
    "# 1176 elements of A -> 1542 elements of B"
   ]
  },
  {
   "cell_type": "code",
   "execution_count": 104,
   "id": "bddd15d3",
   "metadata": {},
   "outputs": [],
   "source": [
    "class Model(nn.Module):\n",
    "  def __init__(self):\n",
    "    super().__init__()\n",
    "    self.layers = nn.Sequential(\n",
    "      nn.Linear(2, 4),\n",
    "      nn.ReLU(),\n",
    "      nn.Linear(4, 3)\n",
    "    )\n",
    "\n",
    "  def forward(self, x):\n",
    "    return self.layers(x)"
   ]
  },
  {
   "cell_type": "code",
   "execution_count": 105,
   "id": "5dd97c32",
   "metadata": {},
   "outputs": [],
   "source": [
    "model = Model()\n",
    "\n",
    "loss_function = nn.L1Loss()\n",
    "optimizer = torch.optim.Adam(model.parameters(), lr=0.01)"
   ]
  },
  {
   "cell_type": "code",
   "execution_count": 106,
   "id": "f26af11a",
   "metadata": {},
   "outputs": [
    {
     "data": {
      "text/plain": [
       "Model(\n",
       "  (layers): Sequential(\n",
       "    (0): Linear(in_features=2, out_features=4, bias=True)\n",
       "    (1): ReLU()\n",
       "    (2): Linear(in_features=4, out_features=3, bias=True)\n",
       "  )\n",
       ")"
      ]
     },
     "execution_count": 106,
     "metadata": {},
     "output_type": "execute_result"
    }
   ],
   "source": [
    "model.double()"
   ]
  },
  {
   "cell_type": "code",
   "execution_count": 107,
   "id": "2316338b",
   "metadata": {},
   "outputs": [],
   "source": [
    "# X [3, 2] -> Y [3, 3], W [2, 3]\n",
    "# X*W = Y\n",
    "X = np.array([[2.0, 1.0], [6.0, 9.0], [5.1, 4.3]])\n",
    "W = np.array([[4.5, 1.7, 1.1], [0.3, -4.3, -10.1]])\n",
    "Y = np.dot(X, W)"
   ]
  },
  {
   "cell_type": "code",
   "execution_count": 108,
   "id": "db8d4772",
   "metadata": {},
   "outputs": [
    {
     "data": {
      "text/plain": [
       "array([[  9.3 ,  -0.9 ,  -7.9 ],\n",
       "       [ 29.7 , -28.5 , -84.3 ],\n",
       "       [ 24.24,  -9.82, -37.82]])"
      ]
     },
     "execution_count": 108,
     "metadata": {},
     "output_type": "execute_result"
    }
   ],
   "source": [
    "Y"
   ]
  },
  {
   "cell_type": "code",
   "execution_count": 109,
   "id": "6e81e7c2",
   "metadata": {},
   "outputs": [],
   "source": [
    "X = torch.tensor(X)\n",
    "Y = torch.tensor(Y)"
   ]
  },
  {
   "cell_type": "code",
   "execution_count": 110,
   "id": "d9202841",
   "metadata": {},
   "outputs": [
    {
     "name": "stdout",
     "output_type": "stream",
     "text": [
      "Epoch 0, loss 26.72825252787903\n",
      "Epoch 50, loss 19.870263376852662\n",
      "Epoch 100, loss 9.164542224126293\n",
      "Epoch 150, loss 5.5297477042997\n",
      "Epoch 200, loss 4.755276452668417\n",
      "Epoch 250, loss 3.8961850321815055\n",
      "Epoch 300, loss 3.0963431099660395\n",
      "Epoch 350, loss 2.254371729548351\n",
      "Epoch 400, loss 2.1281716854209187\n",
      "Epoch 450, loss 1.9890461279396783\n",
      "Epoch 500, loss 1.8323878297834426\n",
      "Training process has finished.\n"
     ]
    }
   ],
   "source": [
    "for epoch in range(0, 500 + 1):\n",
    "    # Zero the gradients\n",
    "    optimizer.zero_grad()\n",
    "\n",
    "    # Perform forward pass\n",
    "    outputs = model(X)\n",
    "\n",
    "    # Compute loss\n",
    "    loss = loss_function(outputs, Y)\n",
    "\n",
    "    # Perform backward pass\n",
    "    loss.backward()\n",
    "\n",
    "    # Perform optimization\n",
    "    optimizer.step()\n",
    "    if(not epoch % 50):\n",
    "        print(f\"Epoch {epoch}, loss {loss}\")\n",
    "\n",
    "# Process is complete.\n",
    "print('Training process has finished.')"
   ]
  },
  {
   "cell_type": "markdown",
   "id": "4d86ce66",
   "metadata": {},
   "source": [
    "# EEG"
   ]
  },
  {
   "cell_type": "code",
   "execution_count": 110,
   "id": "3494391c",
   "metadata": {},
   "outputs": [],
   "source": [
    "A = np.loadtxt(\"./Data/A.csv\", delimiter = ',')\n",
    "B = np.loadtxt(\"./Data/B.csv\", delimiter = ',')"
   ]
  },
  {
   "cell_type": "code",
   "execution_count": 5,
   "id": "19c1705b",
   "metadata": {},
   "outputs": [],
   "source": [
    "Res = np.loadtxt(\"./Data/Res.csv\", delimiter = ',')\n",
    "X = np.loadtxt(\"./Data/X.csv\", delimiter = ',')"
   ]
  },
  {
   "cell_type": "code",
   "execution_count": 6,
   "id": "91e53237",
   "metadata": {},
   "outputs": [
    {
     "data": {
      "text/plain": [
       "(1176, 1542)"
      ]
     },
     "execution_count": 6,
     "metadata": {},
     "output_type": "execute_result"
    }
   ],
   "source": [
    "X.shape"
   ]
  },
  {
   "cell_type": "code",
   "execution_count": 9,
   "id": "46e32305",
   "metadata": {},
   "outputs": [
    {
     "data": {
      "text/plain": [
       "(990, 1542)"
      ]
     },
     "execution_count": 9,
     "metadata": {},
     "output_type": "execute_result"
    }
   ],
   "source": [
    "B.shape"
   ]
  },
  {
   "cell_type": "code",
   "execution_count": 10,
   "id": "ec829fa1",
   "metadata": {},
   "outputs": [
    {
     "data": {
      "text/plain": [
       "(990, 1176)"
      ]
     },
     "execution_count": 10,
     "metadata": {},
     "output_type": "execute_result"
    }
   ],
   "source": [
    "A.shape"
   ]
  },
  {
   "cell_type": "code",
   "execution_count": 11,
   "id": "34dd8d18",
   "metadata": {},
   "outputs": [],
   "source": [
    "Res = np.dot(A, X)"
   ]
  },
  {
   "cell_type": "code",
   "execution_count": 34,
   "id": "5f2468fe",
   "metadata": {},
   "outputs": [
    {
     "name": "stderr",
     "output_type": "stream",
     "text": [
      "/tmp/ipykernel_4681/2070541639.py:1: UserWarning: To copy construct from a tensor, it is recommended to use sourceTensor.clone().detach() or sourceTensor.clone().detach().requires_grad_(True), rather than torch.tensor(sourceTensor).\n",
      "  loss_function(torch.tensor(Res), torch.tensor(B))\n"
     ]
    },
    {
     "data": {
      "text/plain": [
       "tensor(8.8543e-24, dtype=torch.float64)"
      ]
     },
     "execution_count": 34,
     "metadata": {},
     "output_type": "execute_result"
    }
   ],
   "source": [
    "loss_function(torch.tensor(Res), torch.tensor(B))"
   ]
  },
  {
   "cell_type": "code",
   "execution_count": 30,
   "id": "c203437a",
   "metadata": {},
   "outputs": [],
   "source": [
    "class Model(nn.Module):\n",
    "  def __init__(self):\n",
    "    super().__init__()\n",
    "    self.layers = nn.Sequential(\n",
    "      nn.Linear(1176, 2500),\n",
    "      nn.ReLU(),\n",
    "      nn.Linear(2500, 1542)\n",
    "    )\n",
    "\n",
    "\n",
    "  def forward(self, x):\n",
    "    return self.layers(x)"
   ]
  },
  {
   "cell_type": "code",
   "execution_count": 18,
   "id": "8bfe13e7",
   "metadata": {},
   "outputs": [
    {
     "data": {
      "text/plain": [
       "10872000"
      ]
     },
     "execution_count": 18,
     "metadata": {},
     "output_type": "execute_result"
    }
   ],
   "source": [
    "1176 * 4000 + 4000 * 1542"
   ]
  },
  {
   "cell_type": "code",
   "execution_count": 24,
   "id": "e586a604",
   "metadata": {},
   "outputs": [],
   "source": [
    "A = torch.tensor(A)\n",
    "B = torch.tensor(B)"
   ]
  },
  {
   "cell_type": "code",
   "execution_count": 20,
   "id": "74dbda8d",
   "metadata": {},
   "outputs": [
    {
     "data": {
      "text/plain": [
       "(990, 1542)"
      ]
     },
     "execution_count": 20,
     "metadata": {},
     "output_type": "execute_result"
    }
   ],
   "source": [
    "B.shape"
   ]
  },
  {
   "cell_type": "code",
   "execution_count": 31,
   "id": "6d4e5693",
   "metadata": {},
   "outputs": [],
   "source": [
    "model = Model()\n",
    "\n",
    "loss_function = nn.MSELoss()\n",
    "optimizer = torch.optim.Adam(model.parameters(), lr=0.001)"
   ]
  },
  {
   "cell_type": "code",
   "execution_count": 32,
   "id": "fdb2e3e3",
   "metadata": {},
   "outputs": [
    {
     "data": {
      "text/plain": [
       "Model(\n",
       "  (layers): Sequential(\n",
       "    (0): Linear(in_features=1176, out_features=2500, bias=True)\n",
       "    (1): ReLU()\n",
       "    (2): Linear(in_features=2500, out_features=1542, bias=True)\n",
       "  )\n",
       ")"
      ]
     },
     "execution_count": 32,
     "metadata": {},
     "output_type": "execute_result"
    }
   ],
   "source": [
    "model.double()"
   ]
  },
  {
   "cell_type": "code",
   "execution_count": 33,
   "id": "51275ea9",
   "metadata": {},
   "outputs": [
    {
     "name": "stdout",
     "output_type": "stream",
     "text": [
      "Epoch 0, loss 9.362279443895677\n",
      "Epoch 100, loss 4.927960553670818\n",
      "Epoch 200, loss 3.138518022034301\n",
      "Epoch 300, loss 2.1004181271793367\n",
      "Epoch 400, loss 1.516866844681563\n",
      "Epoch 500, loss 1.1689371130914248\n",
      "Epoch 600, loss 0.9236573992684317\n",
      "Epoch 700, loss 0.7426457897099351\n",
      "Epoch 800, loss 0.6499463351276045\n",
      "Epoch 900, loss 0.5168326915582304\n",
      "Epoch 1000, loss 0.45640235841283106\n",
      "Epoch 1100, loss 0.40180792451559894\n",
      "Epoch 1200, loss 0.3420620232647726\n",
      "Epoch 1300, loss 0.31390838333711407\n",
      "Epoch 1400, loss 0.2702958324552512\n",
      "Epoch 1500, loss 0.24232951474056874\n",
      "Epoch 1600, loss 0.24032053506822265\n",
      "Epoch 1700, loss 0.20091217881489626\n",
      "Epoch 1800, loss 0.1780837438702175\n",
      "Epoch 1900, loss 0.16971216888284232\n",
      "Epoch 2000, loss 0.18095471861531237\n",
      "Epoch 2100, loss 0.13566951800434102\n",
      "Epoch 2200, loss 0.1287308885028234\n",
      "Epoch 2300, loss 0.12317023162961095\n",
      "Epoch 2400, loss 0.12967848210223232\n",
      "Epoch 2500, loss 0.108165299878448\n",
      "Epoch 2600, loss 0.10693630874904804\n",
      "Epoch 2700, loss 0.10226568865196264\n",
      "Epoch 2800, loss 0.08944539632001008\n",
      "Epoch 2900, loss 0.11782015896326657\n",
      "Epoch 3000, loss 0.07971223033405538\n",
      "Epoch 3100, loss 0.07294921378779819\n",
      "Epoch 3200, loss 0.07517438014987549\n",
      "Epoch 3300, loss 0.08421238587668303\n",
      "Epoch 3400, loss 0.06441647966653406\n",
      "Epoch 3500, loss 0.05796339651204029\n",
      "Epoch 3600, loss 0.060526127670015265\n",
      "Epoch 3700, loss 0.05922185641505925\n",
      "Epoch 3800, loss 0.04582417874125621\n",
      "Epoch 3900, loss 0.047226197571909656\n",
      "Epoch 4000, loss 0.0366125355405233\n",
      "Epoch 4100, loss 0.04342912613336241\n",
      "Epoch 4200, loss 0.03840778997599289\n",
      "Epoch 4300, loss 0.04706550056737502\n",
      "Epoch 4400, loss 0.047861478446249744\n",
      "Epoch 4500, loss 0.04156871730181608\n",
      "Epoch 4600, loss 0.02981908106373222\n",
      "Epoch 4700, loss 0.046714817400052205\n",
      "Epoch 4800, loss 0.037686741793029256\n",
      "Epoch 4900, loss 0.033492300650907955\n",
      "Epoch 5000, loss 0.02939701126684234\n",
      "Epoch 5100, loss 0.028321316971238766\n",
      "Epoch 5200, loss 0.021637271097826555\n",
      "Epoch 5300, loss 0.034247207305549116\n",
      "Epoch 5400, loss 0.023562445564908618\n",
      "Epoch 5500, loss 0.028146850151685082\n",
      "Epoch 5600, loss 0.01971211143069709\n",
      "Epoch 5700, loss 0.02010383363910638\n",
      "Epoch 5800, loss 0.015854145504229096\n",
      "Epoch 5900, loss 0.021619622116465217\n",
      "Epoch 6000, loss 0.01991918320866262\n",
      "Epoch 6100, loss 0.033464327375722004\n",
      "Epoch 6200, loss 0.014517236436988021\n",
      "Epoch 6300, loss 0.014810460857427817\n",
      "Epoch 6400, loss 0.015948839051786515\n",
      "Epoch 6500, loss 0.01913697045664571\n",
      "Epoch 6600, loss 0.01746521137753778\n",
      "Epoch 6700, loss 0.009523742906393788\n",
      "Epoch 6800, loss 0.0329988962753516\n",
      "Epoch 6900, loss 0.022687956353718446\n",
      "Epoch 7000, loss 0.010035257788044455\n",
      "Epoch 7100, loss 0.015090152594902847\n",
      "Epoch 7200, loss 0.026307877381208895\n",
      "Epoch 7300, loss 0.012875615375932126\n",
      "Epoch 7400, loss 0.008608905837394647\n",
      "Epoch 7500, loss 0.015462314986417298\n",
      "Epoch 7600, loss 0.030250047511040202\n",
      "Epoch 7700, loss 0.0098149753099534\n",
      "Epoch 7800, loss 0.01962166244262032\n",
      "Epoch 7900, loss 0.03979836318141777\n",
      "Epoch 8000, loss 0.005802609235003206\n",
      "Epoch 8100, loss 0.00765632247072807\n",
      "Epoch 8200, loss 0.006187777530833312\n",
      "Epoch 8300, loss 0.04667115999667688\n",
      "Epoch 8400, loss 0.011419038737672499\n",
      "Epoch 8500, loss 0.013709254637298201\n",
      "Epoch 8600, loss 0.005607873026753066\n",
      "Epoch 8700, loss 0.0052100930397060725\n",
      "Epoch 8800, loss 0.009458673437055276\n",
      "Epoch 8900, loss 0.012555372806916043\n",
      "Epoch 9000, loss 0.011335006733575584\n",
      "Epoch 9100, loss 0.020979746134948372\n",
      "Epoch 9200, loss 0.008646984314598882\n",
      "Epoch 9300, loss 0.004353690711789195\n",
      "Epoch 9400, loss 0.0065395836333130486\n",
      "Epoch 9500, loss 0.004525286474091549\n",
      "Epoch 9600, loss 0.03287882579181761\n",
      "Epoch 9700, loss 0.009876925392940286\n",
      "Epoch 9800, loss 0.003909339596196401\n",
      "Epoch 9900, loss 0.00600793731414227\n",
      "Epoch 10000, loss 0.00869702016748701\n"
     ]
    }
   ],
   "source": [
    "for epoch in range(0, 10000 + 1):\n",
    "    optimizer.zero_grad()\n",
    "    outputs = model(A)\n",
    "    loss = loss_function(outputs, B)\n",
    "    loss.backward()\n",
    "    optimizer.step()\n",
    "    \n",
    "    if(not epoch % 100):\n",
    "        print(f\"Epoch {epoch}, loss {loss}\")"
   ]
  },
  {
   "cell_type": "code",
   "execution_count": 143,
   "id": "1232a3e1",
   "metadata": {},
   "outputs": [],
   "source": [
    "#MSE 0.88"
   ]
  },
  {
   "cell_type": "code",
   "execution_count": null,
   "id": "763f9eed",
   "metadata": {},
   "outputs": [],
   "source": [
    "#ADD BATCH NORM"
   ]
  },
  {
   "cell_type": "markdown",
   "id": "b160db75",
   "metadata": {},
   "source": [
    "# Testing"
   ]
  },
  {
   "cell_type": "code",
   "execution_count": 10,
   "id": "9be4a68e",
   "metadata": {},
   "outputs": [],
   "source": [
    "FRAME_SIZE = 512\n",
    "SR = 22050\n",
    "HOP_LENGTH = 118"
   ]
  },
  {
   "cell_type": "code",
   "execution_count": 12,
   "id": "a8a8c9f0",
   "metadata": {},
   "outputs": [
    {
     "name": "stderr",
     "output_type": "stream",
     "text": [
      "/tmp/ipykernel_3665/2732087955.py:1: UserWarning: To copy construct from a tensor, it is recommended to use sourceTensor.clone().detach() or sourceTensor.clone().detach().requires_grad_(True), rather than torch.tensor(sourceTensor).\n",
      "  B = model(torch.tensor(A)).detach().numpy()\n"
     ]
    }
   ],
   "source": [
    "B = model(torch.tensor(A)).detach().numpy()"
   ]
  },
  {
   "cell_type": "code",
   "execution_count": 13,
   "id": "d83ef23c",
   "metadata": {},
   "outputs": [],
   "source": [
    "def restore(D, frame_size = FRAME_SIZE, hop_length = HOP_LENGTH, epochs=10, window='hann'):\n",
    "    \n",
    "    D = np.concatenate((np.zeros((D.shape[0], 1)), D, np.zeros((D.shape[0], 1))), axis=1)\n",
    "    mag, _ = librosa.magphase(D)\n",
    "    \n",
    "    phase = np.exp(1.j * np.random.uniform(0., 2*np.pi, size=mag.shape))\n",
    "    x_ = librosa.istft(mag * phase, hop_length=hop_length, center=False, window=window)\n",
    "    \n",
    "    for i in range(epochs):\n",
    "        _, phase = librosa.magphase(librosa.stft(x_, n_fft=frame_size, hop_length=hop_length, center=False,\n",
    "                                                 window=window))\n",
    "        x_ = librosa.istft(mag * phase, hop_length=hop_length, center=False, window=window)\n",
    "        \n",
    "    return x_[hop_length:-hop_length]"
   ]
  },
  {
   "cell_type": "code",
   "execution_count": 14,
   "id": "6d33bb35",
   "metadata": {},
   "outputs": [],
   "source": [
    "x = restore(B.reshape(-1, 6, 257).reshape(-1, 257).T)"
   ]
  },
  {
   "cell_type": "code",
   "execution_count": 15,
   "id": "6011e8cd",
   "metadata": {},
   "outputs": [
    {
     "data": {
      "text/plain": [
       "[<matplotlib.lines.Line2D at 0x7f27c19e06a0>]"
      ]
     },
     "execution_count": 15,
     "metadata": {},
     "output_type": "execute_result"
    },
    {
     "data": {
      "image/png": "[encoded data removed]",
      "text/plain": [
       "<Figure size 432x288 with 1 Axes>"
      ]
     },
     "metadata": {
      "needs_background": "light"
     },
     "output_type": "display_data"
    }
   ],
   "source": [
    "plt.plot(x)"
   ]
  },
  {
   "cell_type": "code",
   "execution_count": 16,
   "id": "399bae6e",
   "metadata": {},
   "outputs": [],
   "source": [
    "scipy.io.wavfile.write('./230.wav', SR, x)"
   ]
  },
  {
   "cell_type": "code",
   "execution_count": 109,
   "id": "422ca2e5",
   "metadata": {},
   "outputs": [
    {
     "data": {
      "text/plain": [
       "(990, 1542)"
      ]
     },
     "execution_count": 109,
     "metadata": {},
     "output_type": "execute_result"
    }
   ],
   "source": [
    "B.shape"
   ]
  },
  {
   "cell_type": "code",
   "execution_count": null,
   "id": "79ad3243",
   "metadata": {},
   "outputs": [],
   "source": [
    "# 990, 257*6 -> 257, 990*6"
   ]
  },
  {
   "cell_type": "code",
   "execution_count": 102,
   "id": "3a1ece13",
   "metadata": {},
   "outputs": [],
   "source": [
    "B = model(A).detach().numpy()"
   ]
  },
  {
   "cell_type": "code",
   "execution_count": 103,
   "id": "3d0e46c9",
   "metadata": {},
   "outputs": [],
   "source": [
    "B1 = B[:, 257*0:257*1]\n",
    "B2 = B[:, 257*1:257*2]\n",
    "B3 = B[:, 257*2:257*3]\n",
    "B4 = B[:, 257*3:257*4]\n",
    "B5 = B[:, 257*4:257*5]\n",
    "B6 = B[:, 257*5:257*6]"
   ]
  },
  {
   "cell_type": "code",
   "execution_count": 104,
   "id": "c0c30417",
   "metadata": {},
   "outputs": [
    {
     "data": {
      "text/plain": [
       "(990, 257)"
      ]
     },
     "execution_count": 104,
     "metadata": {},
     "output_type": "execute_result"
    }
   ],
   "source": [
    "B1.shape"
   ]
  },
  {
   "cell_type": "code",
   "execution_count": 105,
   "id": "a39f2674",
   "metadata": {},
   "outputs": [],
   "source": [
    "to_sound = np.concatenate((B1, B2, B3, B4, B5, B6), axis = 0).T"
   ]
  },
  {
   "cell_type": "code",
   "execution_count": 106,
   "id": "77983be5",
   "metadata": {},
   "outputs": [
    {
     "data": {
      "text/plain": [
       "(257, 5940)"
      ]
     },
     "execution_count": 106,
     "metadata": {},
     "output_type": "execute_result"
    }
   ],
   "source": [
    "to_sound.shape"
   ]
  },
  {
   "cell_type": "code",
   "execution_count": 107,
   "id": "fbf98637",
   "metadata": {},
   "outputs": [],
   "source": [
    "x = restore(to_sound.reshape(257, -1))"
   ]
  },
  {
   "cell_type": "code",
   "execution_count": 108,
   "id": "09e5126d",
   "metadata": {},
   "outputs": [],
   "source": [
    "scipy.io.wavfile.write('./229.wav', SR, x)"
   ]
  },
  {
   "cell_type": "code",
   "execution_count": 122,
   "id": "33de272b",
   "metadata": {},
   "outputs": [],
   "source": [
    "torch.save(model.state_dict(), \"./models/model1\")"
   ]
  },
  {
   "cell_type": "markdown",
   "id": "2331d003",
   "metadata": {},
   "source": [
    "# smth"
   ]
  },
  {
   "cell_type": "code",
   "execution_count": 124,
   "id": "38bc2f23",
   "metadata": {},
   "outputs": [
    {
     "data": {
      "text/plain": [
       "(25586, 1176)"
      ]
     },
     "execution_count": 124,
     "metadata": {},
     "output_type": "execute_result"
    }
   ],
   "source": [
    "A = np.loadtxt('./Data/bash.csv', delimiter=';', ndmin=2)\n",
    "label = A[:, 0]\n",
    "A = A[:, 1:]\n",
    "A.shape"
   ]
  },
  {
   "cell_type": "code",
   "execution_count": 126,
   "id": "7a8d722f",
   "metadata": {},
   "outputs": [],
   "source": [
    "label = label.astype(int)"
   ]
  },
  {
   "cell_type": "code",
   "execution_count": 199,
   "id": "7d513c65",
   "metadata": {},
   "outputs": [
    {
     "data": {
      "text/plain": [
       "(1210,)"
      ]
     },
     "execution_count": 199,
     "metadata": {},
     "output_type": "execute_result"
    }
   ],
   "source": [
    "def get_nearest(label, ind):\n",
    "    while label[ind] != 0:\n",
    "        ind += 1\n",
    "    return ind - 1\n",
    "\n",
    "restricted_mode = False \n",
    "rest_num = 1\n",
    "rest_arr = np.zeros(10)\n",
    "indices1 = np.empty(0)\n",
    "indices2 = np.empty(0)\n",
    "hops = 18 # zeroes\n",
    "flag = 0 # in block \n",
    "count = 0\n",
    "\n",
    "for i, val in enumerate(label):\n",
    "    if val == 0:\n",
    "        if flag:\n",
    "            count += 1\n",
    "            continue\n",
    "        else:\n",
    "            continue\n",
    "    \n",
    "    if val > 10:\n",
    "        if restricted_mode & (rest_arr[int(val) % 10] == rest_num):\n",
    "            continue\n",
    "        count = 0\n",
    "        flag = 1\n",
    "        last_ind = i\n",
    "    else:\n",
    "        if count != hops:\n",
    "            count = 0\n",
    "            continue\n",
    "        else: \n",
    "            count = 0\n",
    "            flag = 0\n",
    "            if restricted_mode:\n",
    "                rest_arr[int(val) % 10] += 1\n",
    "            indices1 = np.append(indices1, last_ind)\n",
    "            indices2 = np.append(indices2, get_nearest(label, i))\n",
    "            \n",
    "#indices1 = np.array(sorted(list(set(indices1).union(*[set(indices1 + j) for j in range(1, 13)]))))\n",
    "#indices2 = np.array(sorted(list(set(indices2).union(*[set(indices2 + j) for j in range(1, 13)]))))\n",
    "#inds = np.array(sorted(list(set(indices1).union(indices2)))).astype(int)\n",
    "inds = indices1.astype(int) + 2\n",
    "inds = np.array(sorted(list(set(inds).union(*[set(inds + j) for j in range(1, 9 + 2)]))))\n",
    "label[inds].shape\n",
    "#[print(i) for i in zip(indices1, indices2)]"
   ]
  },
  {
   "cell_type": "code",
   "execution_count": 200,
   "id": "7736342e",
   "metadata": {},
   "outputs": [
    {
     "data": {
      "text/plain": [
       "array([  343,   344,   345, ..., 24383, 24384, 24385])"
      ]
     },
     "execution_count": 200,
     "metadata": {},
     "output_type": "execute_result"
    }
   ],
   "source": [
    "inds"
   ]
  },
  {
   "cell_type": "code",
   "execution_count": 201,
   "id": "fb747bf7",
   "metadata": {},
   "outputs": [
    {
     "data": {
      "text/plain": [
       "(1210, 1176)"
      ]
     },
     "execution_count": 201,
     "metadata": {},
     "output_type": "execute_result"
    }
   ],
   "source": [
    "data = A[inds]\n",
    "data.shape"
   ]
  },
  {
   "cell_type": "code",
   "execution_count": 202,
   "id": "1b47ef5e",
   "metadata": {},
   "outputs": [],
   "source": [
    "np.savetxt(\"./Data/A2.csv\", data, delimiter=\",\")"
   ]
  },
  {
   "cell_type": "code",
   "execution_count": 203,
   "id": "538ec615",
   "metadata": {},
   "outputs": [
    {
     "data": {
      "text/plain": [
       "(257, 540)"
      ]
     },
     "execution_count": 203,
     "metadata": {},
     "output_type": "execute_result"
    }
   ],
   "source": [
    "names = ['Ba.wav', 'fa.wav', 'Ga.wav', 'Ma.wav', 'Ra.wav', 'Bu.wav', 'Ru.wav', 'mu.wav', 'fu.wav', 'Gu.wav']\n",
    "path = './Audios/slogi/'\n",
    "SR = 22050\n",
    "\n",
    "Sounds = []\n",
    "for name in names:\n",
    "    Sounds.append(librosa.load(path + name, sr=SR)[0])\n",
    "    \n",
    "Snd = np.empty((0, 6766))\n",
    "Snd = np.append(Snd, Sounds[0][3000:9766].reshape(1, -1), axis=0)\n",
    "Snd = np.append(Snd, Sounds[1][1000:7766].reshape(1, -1), axis=0)\n",
    "Snd = np.append(Snd, Sounds[2][4000:10766].reshape(1, -1), axis=0)\n",
    "Snd = np.append(Snd, Sounds[3][:6766].reshape(1, -1), axis=0)\n",
    "tmp = Sounds[4][:-1]\n",
    "tmp = np.pad(tmp, ((6766 - tmp.shape[0]) // 2,\n",
    "                           (6766 - tmp.shape[0]) // 2), 'constant', constant_values=(0, 0))\n",
    "Snd = np.append(Snd, tmp.reshape(1, -1), axis=0)\n",
    "Snd = np.append(Snd, Sounds[5][2200:8966].reshape(1, -1), axis=0)\n",
    "Snd = np.append(Snd, Sounds[6][-6766:].reshape(1, -1), axis=0)\n",
    "Snd = np.append(Snd, Sounds[7][250:7016].reshape(1, -1), axis=0)\n",
    "Snd = np.append(Snd, Sounds[8][2000:8766].reshape(1, -1), axis=0)\n",
    "Snd = np.append(Snd, Sounds[9][1300:8066].reshape(1, -1), axis=0)\n",
    "\n",
    "Snd = np.concatenate((Snd[-1].reshape(1, -1), Snd[:-1, :]))\n",
    "sounds = np.empty((0, 6766))\n",
    "for sound in Snd.reshape(10, -1):\n",
    "    sounds = np.append(sounds, np.zeros((5, 6766)))\n",
    "    sounds = np.append(sounds, sound.reshape(1, -1))\n",
    "    \n",
    "spec = np.empty((257, 0))\n",
    "for snd in Snd.reshape(10, -1):\n",
    "    x = np.abs(librosa.stft(snd, n_fft=FRAME_SIZE, hop_length=HOP_LENGTH, center=False))\n",
    "    spec = np.append(spec, x, axis=1)\n",
    "spec.shape"
   ]
  },
  {
   "cell_type": "code",
   "execution_count": 204,
   "id": "fc7ae3bb",
   "metadata": {},
   "outputs": [
    {
     "data": {
      "text/plain": [
       "(1210, 1542)"
      ]
     },
     "execution_count": 204,
     "metadata": {},
     "output_type": "execute_result"
    }
   ],
   "source": [
    "B = np.empty((0, 257*6))\n",
    "localspecs = spec.T.reshape(10, 54, 257).reshape(10, 54*257)\n",
    "\n",
    "for l in label[(inds - 2)[::11]].astype(int):\n",
    "    B = np.append(B, np.zeros((1, 257*6)), axis=0)\n",
    "    B = np.append(B, localspecs[l % 10].reshape(54, 257).reshape(9, 6*257), axis=0)\n",
    "    B = np.append(B, np.zeros((1, 257*6)), axis=0)\n",
    "\n",
    "B.shape"
   ]
  },
  {
   "cell_type": "code",
   "execution_count": 205,
   "id": "4716103b",
   "metadata": {},
   "outputs": [],
   "source": [
    "np.savetxt(\"./Data/B2.csv\", B, delimiter=\",\")"
   ]
  },
  {
   "cell_type": "markdown",
   "id": "b0982425",
   "metadata": {},
   "source": [
    "# V2"
   ]
  },
  {
   "cell_type": "code",
   "execution_count": 3,
   "id": "ae1a4c4c",
   "metadata": {},
   "outputs": [],
   "source": [
    "class Model(nn.Module):\n",
    "  def __init__(self):\n",
    "    super().__init__()\n",
    "    self.layers = nn.Sequential(\n",
    "      nn.Linear(1176, 4000),\n",
    "      nn.ReLU(),\n",
    "      nn.Linear(4000, 1542)\n",
    "    )\n",
    "\n",
    "\n",
    "  def forward(self, x):\n",
    "    return self.layers(x)"
   ]
  },
  {
   "cell_type": "code",
   "execution_count": 4,
   "id": "a81a65f1",
   "metadata": {},
   "outputs": [],
   "source": [
    "model = Model()\n",
    "\n",
    "loss_function = nn.MSELoss()\n",
    "optimizer = torch.optim.Adam(model.parameters(), lr=0.001)"
   ]
  },
  {
   "cell_type": "code",
   "execution_count": 5,
   "id": "d781f3a3",
   "metadata": {},
   "outputs": [
    {
     "data": {
      "text/plain": [
       "Model(\n",
       "  (layers): Sequential(\n",
       "    (0): Linear(in_features=1176, out_features=4000, bias=True)\n",
       "    (1): ReLU()\n",
       "    (2): Linear(in_features=4000, out_features=1542, bias=True)\n",
       "  )\n",
       ")"
      ]
     },
     "execution_count": 5,
     "metadata": {},
     "output_type": "execute_result"
    }
   ],
   "source": [
    "model.double()"
   ]
  },
  {
   "cell_type": "code",
   "execution_count": 6,
   "id": "814097c3",
   "metadata": {},
   "outputs": [],
   "source": [
    "A = torch.tensor(np.loadtxt(\"./Data/A2.csv\", delimiter = ','))\n",
    "B = torch.tensor(np.loadtxt(\"./Data/B2.csv\", delimiter = ','))"
   ]
  },
  {
   "cell_type": "code",
   "execution_count": 7,
   "id": "2ba37ba3",
   "metadata": {},
   "outputs": [
    {
     "data": {
      "text/plain": [
       "torch.Size([1210, 1542])"
      ]
     },
     "execution_count": 7,
     "metadata": {},
     "output_type": "execute_result"
    }
   ],
   "source": [
    "B.shape"
   ]
  },
  {
   "cell_type": "code",
   "execution_count": 8,
   "id": "c496a33d",
   "metadata": {},
   "outputs": [
    {
     "name": "stdout",
     "output_type": "stream",
     "text": [
      "Epoch 0, loss 7.678527294463538\n",
      "Epoch 100, loss 4.122311881631228\n",
      "Epoch 200, loss 2.538675994804448\n",
      "Epoch 300, loss 1.678898584901107\n",
      "Epoch 400, loss 1.2376362001799208\n",
      "Epoch 500, loss 0.9257669377219383\n",
      "Epoch 600, loss 0.7203402008799785\n",
      "Epoch 700, loss 0.6254669552753712\n",
      "Epoch 800, loss 0.5156996275305951\n",
      "Epoch 900, loss 0.4314012753276828\n",
      "Epoch 1000, loss 0.3698071385904647\n",
      "Epoch 1100, loss 0.3129050020980329\n",
      "Epoch 1200, loss 0.28312853964997153\n",
      "Epoch 1300, loss 0.26303212448082686\n",
      "Epoch 1400, loss 0.2187985414467747\n",
      "Epoch 1500, loss 0.1938863784551508\n",
      "Epoch 1600, loss 0.18120874574857027\n",
      "Epoch 1700, loss 0.16613919222523577\n",
      "Epoch 1800, loss 0.1467976819584712\n",
      "Epoch 1900, loss 0.1427881979489743\n",
      "Epoch 2000, loss 0.12714711365416762\n",
      "Epoch 2100, loss 0.10739749337520932\n",
      "Epoch 2200, loss 0.13181330340541939\n",
      "Epoch 2300, loss 0.09572447852103676\n",
      "Epoch 2400, loss 0.11011644092824971\n",
      "Epoch 2500, loss 0.09307426453630022\n",
      "Epoch 2600, loss 0.09846570175876873\n",
      "Epoch 2700, loss 0.07057530511625111\n",
      "Epoch 2800, loss 0.0661302505563625\n",
      "Epoch 2900, loss 0.08225104917744495\n",
      "Epoch 3000, loss 0.06903827381086687\n",
      "Epoch 3100, loss 0.07097628147884959\n",
      "Epoch 3200, loss 0.05162777396674307\n",
      "Epoch 3300, loss 0.04825542706743426\n",
      "Epoch 3400, loss 0.04439682621338822\n",
      "Epoch 3500, loss 0.0539469210388201\n",
      "Epoch 3600, loss 0.04401520085849432\n",
      "Epoch 3700, loss 0.041793316669065966\n",
      "Epoch 3800, loss 0.044832077987228436\n",
      "Epoch 3900, loss 0.045608366885783916\n",
      "Epoch 4000, loss 0.04013936292011034\n",
      "Epoch 4100, loss 0.03127321159827314\n",
      "Epoch 4200, loss 0.03129602320008449\n",
      "Epoch 4300, loss 0.03250936533117471\n",
      "Epoch 4400, loss 0.03896024074454935\n",
      "Epoch 4500, loss 0.0353085552938347\n",
      "Epoch 4600, loss 0.05496548634711712\n",
      "Epoch 4700, loss 0.037227542337495804\n",
      "Epoch 4800, loss 0.057681385490537335\n",
      "Epoch 4900, loss 0.023665168681125517\n",
      "Epoch 5000, loss 0.026689429755381133\n",
      "Epoch 5100, loss 0.03641550362094445\n",
      "Epoch 5200, loss 0.0408999168878097\n",
      "Epoch 5300, loss 0.019016121583072747\n",
      "Epoch 5400, loss 0.02370434140994328\n",
      "Epoch 5500, loss 0.024083777359113604\n",
      "Epoch 5600, loss 0.08521365462944966\n",
      "Epoch 5700, loss 0.020227934023669843\n",
      "Epoch 5800, loss 0.02760927341715525\n",
      "Epoch 5900, loss 0.014936099089807559\n",
      "Epoch 6000, loss 0.02930722660039573\n",
      "Epoch 6100, loss 0.030724790247091786\n",
      "Epoch 6200, loss 0.024166493016460615\n",
      "Epoch 6300, loss 0.04312746093043557\n",
      "Epoch 6400, loss 0.011628602286393985\n",
      "Epoch 6500, loss 0.026624446182440996\n",
      "Epoch 6600, loss 0.03395973892090148\n",
      "Epoch 6700, loss 0.03713005761659699\n",
      "Epoch 6800, loss 0.01542776278732106\n",
      "Epoch 6900, loss 0.00900651491505709\n",
      "Epoch 7000, loss 0.01887508432555223\n",
      "Epoch 7100, loss 0.01543559479283317\n",
      "Epoch 7200, loss 0.00790903224385704\n",
      "Epoch 7300, loss 0.014588126169087303\n",
      "Epoch 7400, loss 0.15193837599198515\n",
      "Epoch 7500, loss 0.009744745699764143\n"
     ]
    }
   ],
   "source": [
    "for epoch in range(0, 7500 + 1):\n",
    "    optimizer.zero_grad()\n",
    "    outputs = model(A)\n",
    "    loss = loss_function(outputs, B)\n",
    "    loss.backward()\n",
    "    optimizer.step()\n",
    "    \n",
    "    if(not epoch % 100):\n",
    "        print(f\"Epoch {epoch}, loss {loss}\")"
   ]
  },
  {
   "cell_type": "code",
   "execution_count": 9,
   "id": "6383046a",
   "metadata": {},
   "outputs": [],
   "source": [
    "torch.save(model.state_dict(), \"./models/model2\")"
   ]
  },
  {
   "cell_type": "code",
   "execution_count": null,
   "id": "d046cc46",
   "metadata": {},
   "outputs": [],
   "source": [
    "for i in range(len(image)):\n",
    "    for j in range(len(image)):\n",
    "        newimage = image[len(image) - i][j]"
   ]
  },
  {
   "cell_type": "markdown",
   "id": "01f5499e",
   "metadata": {},
   "source": [
    "# Anomalies"
   ]
  },
  {
   "cell_type": "code",
   "execution_count": 180,
   "id": "a6da5bbc",
   "metadata": {},
   "outputs": [],
   "source": [
    "A = np.loadtxt(\"./Data/A2.csv\", delimiter = ',')\n",
    "B = np.loadtxt(\"./Data/B2.csv\", delimiter = ',')"
   ]
  },
  {
   "cell_type": "code",
   "execution_count": 70,
   "id": "b9c8db8e",
   "metadata": {},
   "outputs": [],
   "source": [
    "data = np.array([row for row in A])\n",
    "covMatrix = np.cov(data,bias=True)"
   ]
  },
  {
   "cell_type": "code",
   "execution_count": 71,
   "id": "600768b6",
   "metadata": {},
   "outputs": [
    {
     "data": {
      "image/png": "[encoded data removed]",
      "text/plain": [
       "<Figure size 432x288 with 2 Axes>"
      ]
     },
     "metadata": {
      "needs_background": "light"
     },
     "output_type": "display_data"
    }
   ],
   "source": [
    "sn.heatmap(covMatrix)\n",
    "plt.show()"
   ]
  },
  {
   "cell_type": "code",
   "execution_count": 16,
   "id": "b39cdbeb",
   "metadata": {},
   "outputs": [],
   "source": [
    "#No normal distribution"
   ]
  },
  {
   "cell_type": "code",
   "execution_count": 19,
   "id": "36eb9e32",
   "metadata": {},
   "outputs": [
    {
     "data": {
      "text/plain": [
       "array([[0.00000000e+00, 0.00000000e+00, 0.00000000e+00, ...,\n",
       "        0.00000000e+00, 0.00000000e+00, 0.00000000e+00],\n",
       "       [9.19481165e-03, 1.60628206e-02, 1.45693023e-02, ...,\n",
       "        5.12246918e-05, 1.38091249e-04, 7.96444393e-06],\n",
       "       [3.08862091e+00, 1.83506106e+00, 3.92615975e-01, ...,\n",
       "        1.13273335e-03, 2.63593224e-04, 9.17753264e-05],\n",
       "       ...,\n",
       "       [2.66149886e-02, 8.40976913e-02, 1.76148100e-01, ...,\n",
       "        1.00069256e-04, 4.73050470e-05, 1.21025529e-04],\n",
       "       [1.09793177e-02, 1.42348413e-01, 3.97277296e-01, ...,\n",
       "        1.44139380e-04, 4.36392786e-05, 5.35283167e-06],\n",
       "       [0.00000000e+00, 0.00000000e+00, 0.00000000e+00, ...,\n",
       "        0.00000000e+00, 0.00000000e+00, 0.00000000e+00]])"
      ]
     },
     "execution_count": 19,
     "metadata": {},
     "output_type": "execute_result"
    }
   ],
   "source": [
    "B"
   ]
  },
  {
   "cell_type": "code",
   "execution_count": 181,
   "id": "8c86397e",
   "metadata": {},
   "outputs": [],
   "source": [
    "labels = np.array([(not np.any(B[i])) for i in range(A.shape[0])]).astype(int)"
   ]
  },
  {
   "cell_type": "code",
   "execution_count": 182,
   "id": "13a9576e",
   "metadata": {},
   "outputs": [
    {
     "data": {
      "text/plain": [
       "array([1, 0, 0, ..., 0, 0, 1])"
      ]
     },
     "execution_count": 182,
     "metadata": {},
     "output_type": "execute_result"
    }
   ],
   "source": [
    "labels"
   ]
  },
  {
   "cell_type": "code",
   "execution_count": 183,
   "id": "f79b0bdb",
   "metadata": {},
   "outputs": [
    {
     "data": {
      "text/plain": [
       "1"
      ]
     },
     "execution_count": 183,
     "metadata": {},
     "output_type": "execute_result"
    }
   ],
   "source": [
    "labels[198]"
   ]
  },
  {
   "cell_type": "code",
   "execution_count": 184,
   "id": "1ea90028",
   "metadata": {},
   "outputs": [],
   "source": [
    "A1 = np.array([A[i] for i in range(len(labels)) if labels[i]==1])"
   ]
  },
  {
   "cell_type": "code",
   "execution_count": 185,
   "id": "2bcf6792",
   "metadata": {},
   "outputs": [
    {
     "data": {
      "text/plain": [
       "(220, 1176)"
      ]
     },
     "execution_count": 185,
     "metadata": {},
     "output_type": "execute_result"
    }
   ],
   "source": [
    "A1.shape"
   ]
  },
  {
   "cell_type": "code",
   "execution_count": 186,
   "id": "fa27d985",
   "metadata": {},
   "outputs": [],
   "source": [
    "A2 = np.array([A[i] for i in range(300) if labels[i]==0])"
   ]
  },
  {
   "cell_type": "code",
   "execution_count": 187,
   "id": "16b8aac4",
   "metadata": {},
   "outputs": [
    {
     "data": {
      "text/plain": [
       "(245, 1176)"
      ]
     },
     "execution_count": 187,
     "metadata": {},
     "output_type": "execute_result"
    }
   ],
   "source": [
    "A2.shape"
   ]
  },
  {
   "cell_type": "code",
   "execution_count": 188,
   "id": "0d0a90d6",
   "metadata": {},
   "outputs": [],
   "source": [
    "X_train = np.concatenate((A1, A2))"
   ]
  },
  {
   "cell_type": "code",
   "execution_count": 189,
   "id": "efc9a3fa",
   "metadata": {},
   "outputs": [
    {
     "data": {
      "text/plain": [
       "(465, 1176)"
      ]
     },
     "execution_count": 189,
     "metadata": {},
     "output_type": "execute_result"
    }
   ],
   "source": [
    "X_train.shape"
   ]
  },
  {
   "cell_type": "code",
   "execution_count": 190,
   "id": "cf629877",
   "metadata": {},
   "outputs": [],
   "source": [
    "scaler = preprocessing.StandardScaler().fit(X_train)"
   ]
  },
  {
   "cell_type": "code",
   "execution_count": 191,
   "id": "8771c433",
   "metadata": {},
   "outputs": [],
   "source": [
    "X_train = scaler.transform(X_train)\n",
    "labels_train = np.array([1]*220 + [0]*245).reshape(-1)"
   ]
  },
  {
   "cell_type": "code",
   "execution_count": 192,
   "id": "280bb0d4",
   "metadata": {},
   "outputs": [
    {
     "data": {
      "text/plain": [
       "(465, 1176)"
      ]
     },
     "execution_count": 192,
     "metadata": {},
     "output_type": "execute_result"
    }
   ],
   "source": [
    "X_train.shape"
   ]
  },
  {
   "cell_type": "code",
   "execution_count": 259,
   "id": "0a2228f9",
   "metadata": {},
   "outputs": [
    {
     "data": {
      "text/plain": [
       "IsolationForest(max_samples=100,\n",
       "                random_state=RandomState(MT19937) at 0x7F0C2BC1E740)"
      ]
     },
     "execution_count": 259,
     "metadata": {},
     "output_type": "execute_result"
    }
   ],
   "source": [
    "rng = np.random.RandomState(42)\n",
    "\n",
    "# fit the model\n",
    "clf = IsolationForest(max_samples=100, random_state=rng)\n",
    "clf.fit(X_train)"
   ]
  },
  {
   "cell_type": "code",
   "execution_count": 260,
   "id": "643b52d8",
   "metadata": {},
   "outputs": [
    {
     "data": {
      "text/plain": [
       "array([1, 1, 1, 1, 1, 1, 1, 1, 1, 1, 1, 1, 1, 1, 1, 1, 1, 1, 1, 1, 1, 1,\n",
       "       1, 1, 1, 1, 1, 1, 1, 1, 1, 1, 1, 1, 1, 1, 1, 1, 1, 1, 1, 1, 1, 1,\n",
       "       1, 1, 1, 1, 1, 1, 1, 1, 1, 1, 1, 1, 1, 1, 1, 1, 1, 1, 1, 1, 1, 1,\n",
       "       1, 1, 1, 1, 1, 1, 1, 1, 1, 1, 1, 1, 1, 1, 1, 1, 1, 1, 1, 1, 1, 1,\n",
       "       1, 1, 1, 1, 1, 1, 1, 1, 1, 1, 1, 1, 1, 1, 1, 1, 1, 1, 1, 1, 1, 1,\n",
       "       1, 1, 1, 1, 1, 1, 1, 1, 1, 1, 1, 1, 1, 1, 1, 1, 1, 1, 1, 1, 1, 1,\n",
       "       1, 1, 1, 1, 1, 1, 1, 1, 1, 1, 1, 1, 1, 1, 1, 1, 1, 1, 1, 1, 1, 1,\n",
       "       1, 1, 1, 1, 1, 1, 1, 1, 1, 1, 1, 1, 1, 1, 1, 1, 1, 1, 1, 1, 1, 1,\n",
       "       1, 1, 1, 1, 1, 1, 1, 1, 1, 1, 1, 1, 1, 1, 1, 1, 1, 1, 1, 1, 1, 1,\n",
       "       1, 1])"
      ]
     },
     "execution_count": 260,
     "metadata": {},
     "output_type": "execute_result"
    }
   ],
   "source": [
    "clf.predict(A[900:1100])"
   ]
  },
  {
   "cell_type": "code",
   "execution_count": 195,
   "id": "79c58145",
   "metadata": {},
   "outputs": [
    {
     "data": {
      "text/plain": [
       "0.185"
      ]
     },
     "execution_count": 195,
     "metadata": {},
     "output_type": "execute_result"
    }
   ],
   "source": [
    "np.sum((clf.predict(A[900:1100]) + 1) // 2 == labels[900:1100]) / 200"
   ]
  },
  {
   "cell_type": "code",
   "execution_count": 256,
   "id": "1fb65c1e",
   "metadata": {},
   "outputs": [
    {
     "data": {
      "text/plain": [
       "array([ 1,  1,  1,  1,  1,  1,  1,  1,  1,  1,  1,  1,  1,  1,  1,  1, -1,\n",
       "        1,  1,  1,  1,  1,  1,  1,  1,  1,  1,  1,  1,  1,  1,  1,  1,  1,\n",
       "        1,  1,  1,  1,  1,  1,  1,  1,  1,  1,  1,  1,  1,  1,  1,  1,  1,\n",
       "        1,  1,  1,  1,  1,  1,  1,  1,  1,  1,  1,  1, -1,  1,  1,  1,  1,\n",
       "        1,  1,  1,  1,  1,  1,  1,  1,  1,  1,  1,  1,  1,  1,  1,  1,  1,\n",
       "        1,  1,  1,  1,  1,  1,  1,  1, -1, -1,  1,  1,  1,  1,  1, -1,  1,\n",
       "        1,  1,  1,  1,  1,  1,  1,  1,  1,  1,  1,  1,  1,  1,  1,  1,  1,\n",
       "        1,  1,  1,  1,  1,  1,  1,  1,  1,  1,  1,  1,  1,  1,  1,  1,  1,\n",
       "        1, -1,  1,  1,  1,  1,  1,  1,  1,  1,  1,  1,  1,  1,  1,  1,  1,\n",
       "        1,  1,  1,  1, -1,  1,  1,  1,  1,  1,  1,  1,  1,  1,  1,  1,  1,\n",
       "        1,  1,  1,  1,  1,  1,  1,  1,  1,  1,  1,  1,  1,  1,  1,  1,  1,\n",
       "        1,  1,  1,  1,  1,  1,  1,  1,  1,  1,  1,  1,  1])"
      ]
     },
     "execution_count": 256,
     "metadata": {},
     "output_type": "execute_result"
    }
   ],
   "source": [
    "clf = OneClassSVM(gamma='auto').fit(X_train)\n",
    "clf.predict(A[900:1100])"
   ]
  },
  {
   "cell_type": "code",
   "execution_count": 257,
   "id": "8cb8523b",
   "metadata": {},
   "outputs": [
    {
     "data": {
      "text/plain": [
       "0.21"
      ]
     },
     "execution_count": 257,
     "metadata": {},
     "output_type": "execute_result"
    }
   ],
   "source": [
    "np.sum((clf.predict(A[900:1100]) + 1) // 2 == labels[900:1100]) / 200"
   ]
  },
  {
   "cell_type": "code",
   "execution_count": 198,
   "id": "ed7f18cd",
   "metadata": {},
   "outputs": [
    {
     "data": {
      "text/plain": [
       "(465, 1176)"
      ]
     },
     "execution_count": 198,
     "metadata": {},
     "output_type": "execute_result"
    }
   ],
   "source": [
    "X_train.shape"
   ]
  },
  {
   "cell_type": "code",
   "execution_count": 253,
   "id": "58a647de",
   "metadata": {},
   "outputs": [
    {
     "data": {
      "text/plain": [
       "RandomForestClassifier(max_depth=15, random_state=0)"
      ]
     },
     "execution_count": 253,
     "metadata": {},
     "output_type": "execute_result"
    }
   ],
   "source": [
    "clf = RandomForestClassifier(max_depth = 15, random_state=0)\n",
    "clf.fit(X_train, labels_train)"
   ]
  },
  {
   "cell_type": "code",
   "execution_count": 254,
   "id": "c8b9992e",
   "metadata": {},
   "outputs": [
    {
     "data": {
      "text/plain": [
       "array([0, 0, 0, 1, 1, 0, 0, 1, 1, 0, 0, 0, 0, 0, 0, 0, 0, 0, 0, 0, 0, 0,\n",
       "       0, 0, 0, 0, 0, 1, 0, 0, 0, 0, 0, 1, 0, 0, 1, 0, 0, 0, 0, 0, 0, 0,\n",
       "       0, 1, 1, 0, 0, 1, 0, 1, 1, 1, 0, 0, 1, 1, 0, 0, 0, 0, 1, 0, 0, 0,\n",
       "       0, 0, 0, 1, 1, 1, 0, 1, 0, 0, 0, 0, 0, 1, 1, 0, 0, 1, 0, 1, 0, 0,\n",
       "       1, 1, 0, 0, 0, 0, 0, 1, 0, 0, 1, 0, 0, 0, 1, 1, 0, 0, 0, 0, 0, 0,\n",
       "       1, 1, 0, 1, 1, 1, 0, 0, 0, 0, 0, 0, 0, 0, 0, 0, 0, 0, 0, 1, 0, 0,\n",
       "       0, 0, 0, 0, 0, 0, 1, 0, 0, 0, 0, 1, 1, 0, 1, 0, 0, 0, 1, 1, 0, 0,\n",
       "       0, 0, 0, 0, 0, 0, 1, 0, 1, 0, 0, 1, 0, 0, 0, 0, 0, 0, 0, 0, 0, 1,\n",
       "       1, 0, 0, 0, 0, 0, 0, 0, 1, 1, 0, 0, 0, 1, 1, 0, 0, 1, 0, 1, 0, 0,\n",
       "       1, 1])"
      ]
     },
     "execution_count": 254,
     "metadata": {},
     "output_type": "execute_result"
    }
   ],
   "source": [
    "clf.predict(A[900:1100])"
   ]
  },
  {
   "cell_type": "code",
   "execution_count": 255,
   "id": "d09f9b03",
   "metadata": {},
   "outputs": [
    {
     "data": {
      "text/plain": [
       "0.132"
      ]
     },
     "execution_count": 255,
     "metadata": {},
     "output_type": "execute_result"
    }
   ],
   "source": [
    "np.sum(clf.predict(A[1000:2000]) == labels[1000:2000]) / 1000"
   ]
  },
  {
   "cell_type": "code",
   "execution_count": 201,
   "id": "a7acc086",
   "metadata": {},
   "outputs": [
    {
     "data": {
      "text/plain": [
       "0.64"
      ]
     },
     "execution_count": 201,
     "metadata": {},
     "output_type": "execute_result"
    }
   ],
   "source": [
    "np.sum(clf.predict(A[900:1100]) == labels[900:1100]) / 200"
   ]
  },
  {
   "cell_type": "code",
   "execution_count": 250,
   "id": "089178a2",
   "metadata": {},
   "outputs": [
    {
     "name": "stderr",
     "output_type": "stream",
     "text": [
      "/home/geodezik/anaconda3/lib/python3.9/site-packages/sklearn/linear_model/_logistic.py:763: ConvergenceWarning: lbfgs failed to converge (status=1):\n",
      "STOP: TOTAL NO. of ITERATIONS REACHED LIMIT.\n",
      "\n",
      "Increase the number of iterations (max_iter) or scale the data as shown in:\n",
      "    https://scikit-learn.org/stable/modules/preprocessing.html\n",
      "Please also refer to the documentation for alternative solver options:\n",
      "    https://scikit-learn.org/stable/modules/linear_model.html#logistic-regression\n",
      "  n_iter_i = _check_optimize_result(\n"
     ]
    },
    {
     "data": {
      "text/plain": [
       "array([0, 0, 0, 1, 0, 0, 0, 0, 1, 0, 0, 0, 0, 1, 1, 1, 0, 0, 0, 0, 0, 1,\n",
       "       0, 0, 0, 1, 1, 1, 0, 0, 0, 0, 0, 0, 0, 1, 0, 1, 1, 0, 0, 0, 0, 1,\n",
       "       1, 1, 1, 1, 0, 0, 0, 1, 0, 1, 0, 0, 0, 0, 1, 0, 0, 0, 0, 0, 0, 0,\n",
       "       0, 1, 0, 1, 0, 0, 0, 0, 0, 0, 0, 1, 0, 1, 0, 1, 0, 0, 0, 1, 0, 1,\n",
       "       0, 0, 0, 0, 1, 1, 0, 0, 0, 0, 0, 0, 0, 1, 0, 0, 0, 1, 0, 0, 0, 0,\n",
       "       0, 1, 1, 0, 0, 0, 0, 0, 0, 0, 0, 0, 1, 0, 0, 0, 0, 0, 1, 1, 1, 0,\n",
       "       0, 0, 1, 0, 0, 1, 0, 1, 0, 0, 0, 0, 0, 0, 0, 0, 0, 0, 0, 1, 0, 1,\n",
       "       1, 1, 0, 0, 0, 0, 1, 0, 1, 0, 0, 1, 1, 0, 0, 0, 1, 0, 0, 1, 0, 0,\n",
       "       0, 1, 0, 0, 0, 1, 1, 0, 1, 0, 0, 0, 0, 0, 0, 0, 0, 1, 0, 0, 0, 0,\n",
       "       0, 0])"
      ]
     },
     "execution_count": 250,
     "metadata": {},
     "output_type": "execute_result"
    }
   ],
   "source": [
    "clf = LogisticRegression()\n",
    "clf.fit(X_train, labels_train)\n",
    "clf.predict(A[900:1100])"
   ]
  },
  {
   "cell_type": "code",
   "execution_count": 251,
   "id": "a4c357e0",
   "metadata": {},
   "outputs": [
    {
     "data": {
      "text/plain": [
       "0.68"
      ]
     },
     "execution_count": 251,
     "metadata": {},
     "output_type": "execute_result"
    }
   ],
   "source": [
    "np.sum(clf.predict(A[900:1100]) == labels[900:1100]) / 200"
   ]
  },
  {
   "cell_type": "code",
   "execution_count": 252,
   "id": "70c9e3ad",
   "metadata": {},
   "outputs": [
    {
     "data": {
      "text/plain": [
       "0.143"
      ]
     },
     "execution_count": 252,
     "metadata": {},
     "output_type": "execute_result"
    }
   ],
   "source": [
    "np.sum(clf.predict(A[1000:2000]) == labels[1000:2000]) / 1000"
   ]
  },
  {
   "cell_type": "code",
   "execution_count": 247,
   "id": "71044269",
   "metadata": {},
   "outputs": [
    {
     "data": {
      "text/plain": [
       "array([1, 1, 1, 1, 1, 1, 1, 1, 1, 1, 1, 1, 1, 1, 1, 1, 1, 1, 1, 1, 1, 1,\n",
       "       1, 1, 1, 1, 1, 1, 1, 1, 1, 1, 1, 1, 1, 1, 1, 1, 1, 1, 1, 1, 1, 1,\n",
       "       1, 1, 1, 1, 1, 1, 1, 1, 1, 1, 1, 1, 1, 1, 1, 1, 1, 1, 1, 1, 1, 1,\n",
       "       1, 1, 1, 1, 1, 1, 1, 1, 1, 1, 1, 1, 1, 1, 1, 1, 1, 1, 1, 1, 1, 1,\n",
       "       1, 1, 1, 1, 1, 1, 1, 1, 1, 1, 1, 1, 1, 1, 1, 1, 1, 1, 1, 1, 1, 1,\n",
       "       1, 1, 1, 1, 1, 1, 1, 1, 1, 1, 1, 1, 1, 1, 1, 1, 1, 1, 1, 1, 1, 1,\n",
       "       1, 1, 1, 1, 1, 1, 1, 1, 1, 1, 1, 1, 1, 1, 1, 1, 1, 1, 1, 1, 1, 1,\n",
       "       1, 1, 1, 1, 1, 1, 1, 1, 1, 1, 1, 1, 1, 1, 1, 1, 1, 1, 1, 1, 1, 1,\n",
       "       1, 1, 1, 1, 1, 1, 1, 1, 1, 1, 1, 1, 1, 1, 1, 1, 1, 1, 1, 1, 1, 1,\n",
       "       1, 1])"
      ]
     },
     "execution_count": 247,
     "metadata": {},
     "output_type": "execute_result"
    }
   ],
   "source": [
    "clf = GaussianNB()\n",
    "clf.fit(X_train, labels_train)\n",
    "clf.predict(A[900:1100])"
   ]
  },
  {
   "cell_type": "code",
   "execution_count": 248,
   "id": "2552d809",
   "metadata": {},
   "outputs": [
    {
     "data": {
      "text/plain": [
       "0.185"
      ]
     },
     "execution_count": 248,
     "metadata": {},
     "output_type": "execute_result"
    }
   ],
   "source": [
    "np.sum(clf.predict(A[900:1100]) == labels[900:1100]) / 200"
   ]
  },
  {
   "cell_type": "code",
   "execution_count": 249,
   "id": "3822e187",
   "metadata": {},
   "outputs": [
    {
     "data": {
      "text/plain": [
       "0.039"
      ]
     },
     "execution_count": 249,
     "metadata": {},
     "output_type": "execute_result"
    }
   ],
   "source": [
    "np.sum(clf.predict(A[1000:2000]) == labels[1000:2000]) / 1000"
   ]
  },
  {
   "cell_type": "code",
   "execution_count": 244,
   "id": "f1575f26",
   "metadata": {},
   "outputs": [
    {
     "data": {
      "text/plain": [
       "array([1, 0, 0, 1, 0, 0, 0, 1, 1, 0, 0, 0, 0, 1, 1, 1, 0, 0, 0, 0, 0, 1,\n",
       "       0, 0, 0, 1, 1, 1, 0, 0, 0, 0, 0, 0, 0, 1, 0, 1, 1, 0, 0, 0, 0, 1,\n",
       "       0, 1, 1, 1, 0, 0, 1, 1, 0, 1, 0, 0, 0, 1, 1, 0, 0, 0, 1, 0, 0, 0,\n",
       "       0, 1, 0, 1, 1, 0, 1, 0, 0, 0, 0, 0, 0, 1, 1, 1, 0, 1, 0, 0, 0, 1,\n",
       "       0, 0, 0, 0, 0, 1, 0, 0, 0, 0, 0, 0, 0, 1, 1, 0, 0, 1, 0, 0, 0, 0,\n",
       "       0, 0, 0, 0, 1, 1, 0, 0, 0, 0, 0, 0, 1, 1, 1, 0, 0, 0, 1, 1, 0, 0,\n",
       "       0, 0, 0, 1, 0, 1, 0, 1, 1, 1, 1, 0, 1, 1, 0, 1, 0, 0, 0, 1, 0, 1,\n",
       "       1, 1, 1, 0, 0, 0, 1, 1, 1, 0, 0, 1, 0, 1, 0, 0, 1, 0, 0, 1, 0, 0,\n",
       "       0, 1, 1, 0, 0, 1, 1, 0, 1, 0, 0, 0, 0, 0, 0, 0, 0, 1, 0, 1, 0, 0,\n",
       "       0, 0])"
      ]
     },
     "execution_count": 244,
     "metadata": {},
     "output_type": "execute_result"
    }
   ],
   "source": [
    "clf = SGDClassifier(loss = \"modified_huber\")\n",
    "clf.fit(X_train, labels_train)\n",
    "clf.predict(A[900:1100])"
   ]
  },
  {
   "cell_type": "code",
   "execution_count": 245,
   "id": "052b2b36",
   "metadata": {},
   "outputs": [
    {
     "data": {
      "text/plain": [
       "0.625"
      ]
     },
     "execution_count": 245,
     "metadata": {},
     "output_type": "execute_result"
    }
   ],
   "source": [
    "np.sum(clf.predict(A[900:1100]) == labels[900:1100]) / 200"
   ]
  },
  {
   "cell_type": "code",
   "execution_count": 246,
   "id": "89f6d455",
   "metadata": {},
   "outputs": [
    {
     "data": {
      "text/plain": [
       "0.134"
      ]
     },
     "execution_count": 246,
     "metadata": {},
     "output_type": "execute_result"
    }
   ],
   "source": [
    "np.sum(clf.predict(A[1000:2000]) == labels[1000:2000]) / 1000"
   ]
  },
  {
   "cell_type": "code",
   "execution_count": 241,
   "id": "82192d99",
   "metadata": {},
   "outputs": [
    {
     "data": {
      "text/plain": [
       "array([1, 1, 1, 1, 0, 1, 0, 1, 0, 0, 0, 0, 1, 1, 1, 1, 0, 1, 1, 0, 1, 1,\n",
       "       0, 1, 1, 0, 0, 1, 0, 0, 1, 0, 1, 1, 1, 1, 1, 1, 1, 0, 0, 1, 1, 0,\n",
       "       0, 1, 1, 1, 1, 1, 0, 1, 1, 0, 0, 1, 1, 1, 1, 1, 1, 1, 1, 1, 1, 1,\n",
       "       0, 1, 1, 1, 1, 1, 1, 1, 0, 0, 1, 1, 1, 1, 1, 0, 0, 1, 1, 1, 1, 1,\n",
       "       1, 1, 0, 1, 0, 0, 1, 1, 1, 1, 0, 0, 1, 1, 0, 0, 0, 0, 0, 1, 1, 1,\n",
       "       1, 1, 1, 1, 1, 1, 1, 1, 1, 0, 0, 0, 1, 1, 0, 1, 0, 1, 1, 1, 1, 0,\n",
       "       1, 0, 1, 1, 0, 0, 0, 0, 0, 1, 0, 1, 1, 1, 1, 0, 1, 1, 0, 1, 0, 0,\n",
       "       1, 1, 0, 0, 1, 1, 1, 0, 1, 0, 0, 1, 1, 1, 0, 1, 1, 1, 0, 1, 1, 1,\n",
       "       1, 1, 1, 1, 1, 0, 0, 0, 1, 1, 1, 0, 0, 1, 1, 1, 1, 1, 1, 0, 1, 1,\n",
       "       1, 1])"
      ]
     },
     "execution_count": 241,
     "metadata": {},
     "output_type": "execute_result"
    }
   ],
   "source": [
    "clf = KNeighborsClassifier(n_neighbors = 25)\n",
    "clf.fit(X_train, labels_train)\n",
    "clf.predict(A[900:1100])"
   ]
  },
  {
   "cell_type": "code",
   "execution_count": 242,
   "id": "b8ada347",
   "metadata": {},
   "outputs": [
    {
     "data": {
      "text/plain": [
       "0.475"
      ]
     },
     "execution_count": 242,
     "metadata": {},
     "output_type": "execute_result"
    }
   ],
   "source": [
    "np.sum(clf.predict(A[900:1100]) == labels[900:1100]) / 200"
   ]
  },
  {
   "cell_type": "code",
   "execution_count": 243,
   "id": "58aee137",
   "metadata": {},
   "outputs": [
    {
     "data": {
      "text/plain": [
       "0.091"
      ]
     },
     "execution_count": 243,
     "metadata": {},
     "output_type": "execute_result"
    }
   ],
   "source": [
    "np.sum(clf.predict(A[1000:2000]) == labels[1000:2000]) / 1000"
   ]
  },
  {
   "cell_type": "code",
   "execution_count": 218,
   "id": "06276056",
   "metadata": {},
   "outputs": [
    {
     "data": {
      "text/plain": [
       "array([1, 1, 1, 0, 1, 1, 1, 0, 1, 0, 1, 0, 0, 1, 1, 1, 1, 1, 1, 1, 1, 1,\n",
       "       1, 1, 0, 1, 1, 1, 1, 1, 1, 1, 1, 1, 0, 0, 1, 1, 1, 1, 0, 0, 1, 1,\n",
       "       1, 1, 1, 1, 1, 1, 1, 1, 1, 1, 1, 1, 1, 1, 1, 1, 1, 1, 0, 1, 1, 1,\n",
       "       0, 0, 1, 0, 0, 0, 0, 1, 0, 1, 1, 0, 1, 1, 1, 1, 1, 1, 0, 1, 1, 0,\n",
       "       1, 1, 1, 1, 1, 1, 1, 1, 1, 0, 1, 1, 1, 0, 0, 1, 0, 1, 1, 1, 1, 0,\n",
       "       1, 1, 1, 1, 1, 1, 1, 1, 1, 1, 0, 1, 1, 0, 0, 1, 0, 0, 1, 1, 1, 1,\n",
       "       1, 1, 1, 1, 1, 1, 1, 1, 1, 0, 0, 0, 1, 1, 1, 1, 1, 1, 1, 1, 1, 1,\n",
       "       1, 1, 1, 1, 1, 1, 1, 1, 1, 1, 1, 1, 1, 0, 1, 1, 1, 1, 1, 1, 1, 1,\n",
       "       1, 0, 0, 0, 0, 1, 1, 0, 1, 1, 0, 0, 1, 1, 1, 1, 0, 1, 1, 0, 0, 0,\n",
       "       1, 1])"
      ]
     },
     "execution_count": 218,
     "metadata": {},
     "output_type": "execute_result"
    }
   ],
   "source": [
    "clf = DecisionTreeClassifier()\n",
    "clf.fit(X_train, labels_train)\n",
    "clf.predict(A[900:1100])"
   ]
  },
  {
   "cell_type": "code",
   "execution_count": 219,
   "id": "fcc561d6",
   "metadata": {},
   "outputs": [
    {
     "data": {
      "text/plain": [
       "0.315"
      ]
     },
     "execution_count": 219,
     "metadata": {},
     "output_type": "execute_result"
    }
   ],
   "source": [
    "np.sum(clf.predict(A[900:1100]) == labels[900:1100]) / 200"
   ]
  },
  {
   "cell_type": "code",
   "execution_count": 237,
   "id": "99a9c8df",
   "metadata": {},
   "outputs": [
    {
     "data": {
      "text/plain": [
       "array([0, 0, 0, 0, 0, 0, 0, 0, 0, 0, 0, 0, 0, 0, 0, 0, 1, 0, 0, 0, 1, 0,\n",
       "       0, 0, 0, 0, 0, 0, 0, 0, 0, 0, 0, 0, 1, 0, 0, 0, 0, 0, 0, 0, 0, 0,\n",
       "       0, 0, 1, 1, 1, 1, 0, 1, 1, 0, 0, 0, 1, 1, 0, 0, 0, 0, 0, 0, 0, 0,\n",
       "       0, 0, 0, 1, 0, 0, 0, 0, 0, 0, 1, 0, 0, 1, 0, 1, 0, 0, 0, 0, 0, 0,\n",
       "       0, 0, 1, 0, 1, 1, 0, 0, 0, 0, 0, 0, 1, 0, 0, 0, 0, 0, 0, 0, 0, 0,\n",
       "       0, 1, 1, 1, 0, 0, 0, 0, 0, 0, 0, 1, 0, 0, 0, 0, 0, 0, 0, 1, 1, 0,\n",
       "       0, 0, 0, 0, 0, 0, 0, 0, 0, 0, 0, 0, 0, 1, 0, 0, 0, 0, 0, 1, 0, 1,\n",
       "       1, 0, 1, 0, 0, 0, 1, 0, 1, 0, 0, 0, 0, 0, 0, 0, 0, 0, 0, 1, 0, 0,\n",
       "       0, 0, 0, 0, 0, 0, 0, 0, 0, 0, 0, 0, 0, 0, 0, 0, 0, 1, 0, 0, 0, 0,\n",
       "       0, 1])"
      ]
     },
     "execution_count": 237,
     "metadata": {},
     "output_type": "execute_result"
    }
   ],
   "source": [
    "clf = SVC(kernel = \"linear\", C = 0.025, random_state = 101)\n",
    "clf.fit(X_train, labels_train)\n",
    "clf.predict(A[900:1100])"
   ]
  },
  {
   "cell_type": "code",
   "execution_count": 239,
   "id": "c2717df5",
   "metadata": {},
   "outputs": [
    {
     "data": {
      "text/plain": [
       "0.146"
      ]
     },
     "execution_count": 239,
     "metadata": {},
     "output_type": "execute_result"
    }
   ],
   "source": [
    "np.sum(clf.predict(A[1000:2000]) == labels[1000:2000]) / 1000"
   ]
  },
  {
   "cell_type": "markdown",
   "id": "c3a3dfe5",
   "metadata": {},
   "source": [
    "# Try"
   ]
  },
  {
   "cell_type": "code",
   "execution_count": 325,
   "id": "dd5e4c84",
   "metadata": {},
   "outputs": [],
   "source": [
    "class Model(nn.Module):\n",
    "  def __init__(self):\n",
    "    super().__init__()\n",
    "    self.layers = nn.Sequential(\n",
    "      nn.Linear(1176, 1000),\n",
    "      nn.ReLU(),\n",
    "      nn.Linear(1000, 1),\n",
    "      nn.Sigmoid()  \n",
    "    )\n",
    "\n",
    "\n",
    "  def forward(self, x):\n",
    "    return self.layers(x)"
   ]
  },
  {
   "cell_type": "code",
   "execution_count": 326,
   "id": "ef8c90a4",
   "metadata": {},
   "outputs": [],
   "source": [
    "model = Model()\n",
    "\n",
    "loss_function = nn.MSELoss()\n",
    "optimizer = torch.optim.Adam(model.parameters(), lr=0.001)"
   ]
  },
  {
   "cell_type": "code",
   "execution_count": 327,
   "id": "7449840d",
   "metadata": {},
   "outputs": [],
   "source": [
    "model = model.double()"
   ]
  },
  {
   "cell_type": "code",
   "execution_count": 328,
   "id": "b980014e",
   "metadata": {},
   "outputs": [
    {
     "data": {
      "text/plain": [
       "(465, 1176)"
      ]
     },
     "execution_count": 328,
     "metadata": {},
     "output_type": "execute_result"
    }
   ],
   "source": [
    "X_train.shape"
   ]
  },
  {
   "cell_type": "code",
   "execution_count": 329,
   "id": "250473f4",
   "metadata": {},
   "outputs": [
    {
     "data": {
      "text/plain": [
       "(465,)"
      ]
     },
     "execution_count": 329,
     "metadata": {},
     "output_type": "execute_result"
    }
   ],
   "source": [
    "labels_train.shape"
   ]
  },
  {
   "cell_type": "code",
   "execution_count": 330,
   "id": "47f46591",
   "metadata": {},
   "outputs": [],
   "source": [
    "X = torch.tensor(X_train)\n",
    "y = torch.tensor(labels_train.reshape(-1, 1).astype(np.double))"
   ]
  },
  {
   "cell_type": "code",
   "execution_count": 331,
   "id": "545c6d28",
   "metadata": {},
   "outputs": [
    {
     "name": "stdout",
     "output_type": "stream",
     "text": [
      "Epoch 0, loss 0.2620651511138493\n",
      "Epoch 100, loss 0.0030279209413135106\n"
     ]
    }
   ],
   "source": [
    "for epoch in range(0, 100 + 1):\n",
    "    optimizer.zero_grad()\n",
    "    outputs = model(X)\n",
    "    loss = loss_function(outputs, y)\n",
    "    loss.backward()\n",
    "    optimizer.step()\n",
    "    \n",
    "    if(not epoch % 100):\n",
    "        print(f\"Epoch {epoch}, loss {loss}\")"
   ]
  },
  {
   "cell_type": "code",
   "execution_count": 332,
   "id": "daf81483",
   "metadata": {},
   "outputs": [],
   "source": [
    "res = np.array([round(elem[0]) for elem in model(torch.tensor(A[900:1100])).detach().numpy()])"
   ]
  },
  {
   "cell_type": "code",
   "execution_count": 333,
   "id": "dd4fad4d",
   "metadata": {},
   "outputs": [
    {
     "data": {
      "text/plain": [
       "array([0, 0, 1, 1, 0, 1, 0, 0, 1, 1, 0, 0, 0, 1, 0, 1, 0, 0, 0, 0, 0, 1,\n",
       "       0, 0, 0, 1, 1, 0, 0, 0, 0, 0, 0, 1, 1, 1, 0, 1, 1, 0, 0, 0, 0, 0,\n",
       "       1, 1, 0, 1, 0, 0, 0, 1, 1, 0, 0, 1, 0, 0, 1, 0, 0, 0, 0, 0, 0, 0,\n",
       "       0, 1, 0, 1, 0, 0, 0, 0, 0, 0, 1, 1, 1, 1, 0, 0, 0, 1, 0, 0, 0, 0,\n",
       "       0, 0, 1, 0, 1, 1, 0, 0, 1, 1, 0, 0, 0, 1, 0, 0, 0, 1, 0, 1, 0, 0,\n",
       "       1, 0, 1, 1, 1, 1, 0, 0, 0, 0, 1, 0, 1, 0, 1, 0, 1, 0, 1, 1, 1, 0,\n",
       "       0, 0, 1, 0, 0, 1, 0, 0, 1, 0, 0, 1, 0, 1, 0, 0, 0, 0, 0, 1, 0, 1,\n",
       "       1, 1, 0, 0, 0, 0, 0, 0, 0, 0, 0, 0, 0, 1, 0, 0, 1, 0, 1, 0, 0, 0,\n",
       "       0, 1, 0, 0, 1, 0, 1, 0, 1, 0, 1, 0, 0, 1, 0, 1, 0, 1, 0, 0, 1, 0,\n",
       "       1, 1])"
      ]
     },
     "execution_count": 333,
     "metadata": {},
     "output_type": "execute_result"
    }
   ],
   "source": [
    "res"
   ]
  },
  {
   "cell_type": "code",
   "execution_count": 334,
   "id": "01c2280f",
   "metadata": {},
   "outputs": [
    {
     "data": {
      "text/plain": [
       "0.185"
      ]
     },
     "execution_count": 334,
     "metadata": {},
     "output_type": "execute_result"
    }
   ],
   "source": [
    "np.sum(clf.predict(A[900:1100]) == labels[900:1100]) / 200"
   ]
  },
  {
   "cell_type": "code",
   "execution_count": null,
   "id": "2636ea8d",
   "metadata": {},
   "outputs": [],
   "source": []
  }
 ],
 "metadata": {
  "kernelspec": {
   "display_name": "Python 3 (ipykernel)",
   "language": "python",
   "name": "python3"
  },
  "language_info": {
   "codemirror_mode": {
    "name": "ipython",
    "version": 3
   },
   "file_extension": ".py",
   "mimetype": "text/x-python",
   "name": "python",
   "nbconvert_exporter": "python",
   "pygments_lexer": "ipython3",
   "version": "3.8.10"
  }
 },
 "nbformat": 4,
 "nbformat_minor": 5
}
