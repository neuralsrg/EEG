{
 "cells": [
  {
   "cell_type": "code",
   "execution_count": 1,
   "metadata": {},
   "outputs": [
    {
     "data": {
      "text/plain": [
       "['/home/srg/Documents/git/EEG/pseudo-inverse/data_prep/data/bashirinzrf_och.csv']"
      ]
     },
     "execution_count": 1,
     "metadata": {},
     "output_type": "execute_result"
    }
   ],
   "source": [
    "import pandas as pd \n",
    "import numpy as np\n",
    "import os \n",
    "from glob import glob\n",
    "\n",
    "path = os.getcwd()\n",
    "path = os.path.join(path, 'data')\n",
    "\n",
    "files = [f for f in glob(path + '/*.csv')]\n",
    "files"
   ]
  },
  {
   "cell_type": "code",
   "execution_count": 2,
   "metadata": {},
   "outputs": [
    {
     "name": "stdout",
     "output_type": "stream",
     "text": [
      "(602370, 11)\n"
     ]
    },
    {
     "data": {
      "text/html": [
       "<div>\n",
       "<style scoped>\n",
       "    .dataframe tbody tr th:only-of-type {\n",
       "        vertical-align: middle;\n",
       "    }\n",
       "\n",
       "    .dataframe tbody tr th {\n",
       "        vertical-align: top;\n",
       "    }\n",
       "\n",
       "    .dataframe thead th {\n",
       "        text-align: right;\n",
       "    }\n",
       "</style>\n",
       "<table border=\"1\" class=\"dataframe\">\n",
       "  <thead>\n",
       "    <tr style=\"text-align: right;\">\n",
       "      <th></th>\n",
       "      <th>time</th>\n",
       "      <th>label</th>\n",
       "      <th>e1</th>\n",
       "      <th>e2</th>\n",
       "      <th>e3</th>\n",
       "      <th>e4</th>\n",
       "      <th>e5</th>\n",
       "      <th>e6</th>\n",
       "      <th>e7</th>\n",
       "      <th>e8</th>\n",
       "      <th>e9</th>\n",
       "    </tr>\n",
       "  </thead>\n",
       "  <tbody>\n",
       "    <tr>\n",
       "      <th>0</th>\n",
       "      <td>0.000000</td>\n",
       "      <td>0</td>\n",
       "      <td>-0.888060</td>\n",
       "      <td>-0.069266</td>\n",
       "      <td>-0.000074</td>\n",
       "      <td>-0.670848</td>\n",
       "      <td>0.076333</td>\n",
       "      <td>-0.019143</td>\n",
       "      <td>0.250427</td>\n",
       "      <td>0.366932</td>\n",
       "      <td>-0.000989</td>\n",
       "    </tr>\n",
       "    <tr>\n",
       "      <th>1</th>\n",
       "      <td>0.000994</td>\n",
       "      <td>0</td>\n",
       "      <td>-0.891288</td>\n",
       "      <td>-0.003727</td>\n",
       "      <td>-0.000101</td>\n",
       "      <td>-0.658991</td>\n",
       "      <td>0.139277</td>\n",
       "      <td>-0.020493</td>\n",
       "      <td>0.216534</td>\n",
       "      <td>0.411316</td>\n",
       "      <td>-0.001753</td>\n",
       "    </tr>\n",
       "    <tr>\n",
       "      <th>2</th>\n",
       "      <td>0.001988</td>\n",
       "      <td>0</td>\n",
       "      <td>-0.753324</td>\n",
       "      <td>0.130316</td>\n",
       "      <td>-0.000121</td>\n",
       "      <td>-0.537161</td>\n",
       "      <td>0.280191</td>\n",
       "      <td>-0.018788</td>\n",
       "      <td>0.266752</td>\n",
       "      <td>0.528652</td>\n",
       "      <td>-0.002153</td>\n",
       "    </tr>\n",
       "    <tr>\n",
       "      <th>3</th>\n",
       "      <td>0.002982</td>\n",
       "      <td>0</td>\n",
       "      <td>-0.800268</td>\n",
       "      <td>0.159339</td>\n",
       "      <td>-0.000140</td>\n",
       "      <td>-0.560644</td>\n",
       "      <td>0.304739</td>\n",
       "      <td>-0.020451</td>\n",
       "      <td>0.188607</td>\n",
       "      <td>0.541550</td>\n",
       "      <td>-0.002890</td>\n",
       "    </tr>\n",
       "    <tr>\n",
       "      <th>4</th>\n",
       "      <td>0.003976</td>\n",
       "      <td>0</td>\n",
       "      <td>-0.839113</td>\n",
       "      <td>0.222631</td>\n",
       "      <td>-0.000168</td>\n",
       "      <td>-0.555244</td>\n",
       "      <td>0.367433</td>\n",
       "      <td>-0.022216</td>\n",
       "      <td>0.150791</td>\n",
       "      <td>0.582864</td>\n",
       "      <td>-0.003714</td>\n",
       "    </tr>\n",
       "  </tbody>\n",
       "</table>\n",
       "</div>"
      ],
      "text/plain": [
       "       time  label        e1        e2        e3        e4        e5  \\\n",
       "0  0.000000      0 -0.888060 -0.069266 -0.000074 -0.670848  0.076333   \n",
       "1  0.000994      0 -0.891288 -0.003727 -0.000101 -0.658991  0.139277   \n",
       "2  0.001988      0 -0.753324  0.130316 -0.000121 -0.537161  0.280191   \n",
       "3  0.002982      0 -0.800268  0.159339 -0.000140 -0.560644  0.304739   \n",
       "4  0.003976      0 -0.839113  0.222631 -0.000168 -0.555244  0.367433   \n",
       "\n",
       "         e6        e7        e8        e9  \n",
       "0 -0.019143  0.250427  0.366932 -0.000989  \n",
       "1 -0.020493  0.216534  0.411316 -0.001753  \n",
       "2 -0.018788  0.266752  0.528652 -0.002153  \n",
       "3 -0.020451  0.188607  0.541550 -0.002890  \n",
       "4 -0.022216  0.150791  0.582864 -0.003714  "
      ]
     },
     "execution_count": 2,
     "metadata": {},
     "output_type": "execute_result"
    }
   ],
   "source": [
    "df = pd.read_csv(files[0], delimiter=';')\n",
    "print(df.shape)\n",
    "df.head()"
   ]
  },
  {
   "cell_type": "code",
   "execution_count": 32,
   "metadata": {},
   "outputs": [
    {
     "data": {
      "text/plain": [
       "array([16,  6, 14, 17,  7, 14,  4, 17,  7, 13,  3, 17,  7, 17,  7,  5, 11,\n",
       "        1,  5, 15,  5, 16,  6, 14, 12,  2, 14,  4,  4, 11,  1, 15,  5, 11,\n",
       "        1, 15,  5, 17,  7, 14,  4, 16,  6, 15,  5, 15,  5, 15,  5, 13,  3,\n",
       "       17,  7, 16,  6, 14,  4, 15,  5, 11,  1, 12, 14, 16,  6,  4,  5, 13,\n",
       "       14, 14, 17, 12,  2, 11,  1, 13, 16,  6, 16,  6, 12,  2, 14,  4, 17,\n",
       "       13, 13,  3,  4, 11,  1, 17,  7, 11,  1, 12,  2, 15,  5, 17, 11, 15,\n",
       "        5, 14,  4, 16,  6, 17,  7,  1, 12,  2, 14,  4,  1, 12,  2, 16,  6,\n",
       "       13, 13,  3, 13,  3, 17,  7, 15,  5, 14,  4, 12,  2, 11, 15,  5, 12,\n",
       "        2, 17,  7, 13,  3,  2, 15,  5, 17,  7, 16,  6, 13,  3, 12,  2, 13,\n",
       "        3, 13,  3, 13, 16, 13,  3, 14,  4, 16,  6,  7, 17,  7, 12,  2, 16,\n",
       "        6, 11,  1, 11, 12,  2, 14,  4, 13,  3, 17,  7, 14,  6, 11,  4, 13,\n",
       "        3, 16,  6, 17,  7,  6, 11,  1, 13,  3, 17,  7, 11,  1, 17,  7, 17,\n",
       "        7, 13,  3, 11,  1, 17,  7, 11,  1, 16, 17,  7, 15,  5, 13,  3, 12,\n",
       "        2, 11,  1, 11,  1, 15,  5,  7, 11,  1, 13,  3, 13,  3, 11,  1, 15,\n",
       "        5, 15,  5, 14,  4, 12, 12,  2, 11,  1, 12,  2,  7, 12,  2, 16,  6,\n",
       "       11,  1, 14,  4, 11,  1, 15,  5, 16, 16,  6, 15,  5, 11,  1, 16, 15,\n",
       "        5, 14, 12,  2, 14,  4, 17,  7,  2, 13,  3])"
      ]
     },
     "execution_count": 32,
     "metadata": {},
     "output_type": "execute_result"
    }
   ],
   "source": [
    "df.label[np.where(df.label.values > 0)[0]].values"
   ]
  },
  {
   "cell_type": "code",
   "execution_count": 50,
   "metadata": {},
   "outputs": [],
   "source": [
    "def compute_covariance(X):\n",
    "    \"\"\"\n",
    "    Computes covariance vector\n",
    "\n",
    "    X : np.array of shape (n_channels, n_samples)\n",
    "\n",
    "    returns:\n",
    "    c : covariance vector\n",
    "    \"\"\"\n",
    "    n_channels = X.shape[0]\n",
    "    return np.cov(X)[np.triu_indices(n_channels, k=1)]\n",
    "\n",
    "def get_listen_inds(labels):\n",
    "    return np.where(labels > 10)[0]\n",
    "\n",
    "def get_repeat_inds(labels):\n",
    "    return np.where((labels < 10) * (labels > 0))[0]\n",
    "\n",
    "def get_listen_repeat_inds(labels):\n",
    "    non_zero = labels[labels > 0]\n",
    "    non_zero_inds = np.where(labels > 0)[0]\n",
    "\n",
    "    left, right = 0, 1\n",
    "    while True:\n",
    "        if right >= non_zero.shape[0]:\n",
    "            break\n",
    "        if non_zero[left] == non_zero[right] + 10:\n",
    "            left += 2\n",
    "            right += 2\n",
    "            continue\n",
    "        non_zero[left] = 0\n",
    "        left += 1\n",
    "        right += 1\n",
    "    return non_zero_inds[non_zero > 0]\n",
    "\n",
    "def add_zero_inds(inds): # only for paired inds\n",
    "    rpt = inds[1::2]\n",
    "    noise = rpt + 1000 # 1000ms shift\n",
    "    union = np.sort(np.concatenate((inds, noise), axis=0))\n",
    "    return union\n",
    "\n",
    "def prolong_inds(inds, frame_size):\n",
    "    add = np.arange(frame_size)\n",
    "    frames = [add + ind for ind in inds]\n",
    "    return np.concatenate(frames, axis=0)\n",
    "\n",
    "def window_inds(inds, frame_size, window_size, hop_length):\n",
    "    inds = inds.reshape(-1, frame_size)\n",
    "    n_windows = (frame_size - window_size) / hop_length + 1\n",
    "    n_windows = int(np.floor(n_windows))\n",
    "\n",
    "    res = np.zeros((inds.shape[0], n_windows, window_size))\n",
    "    for i in range(n_windows):\n",
    "        start = i * hop_length\n",
    "        res[:, i, :] = inds[:, start:(start + window_size)]\n",
    "\n",
    "    return res.astype(int) # shape (batch, n_windows, window_size) \n",
    "\n",
    "def split_signals(X, inds):\n",
    "    \"\"\"\n",
    "    X: np array of shape (n_channels, n_samples)\n",
    "    inds: np array of shape (batch, n_windows, window_size) \n",
    "\n",
    "    returns:\n",
    "    S: np array of shape (n_channels, batch * n_windows, window_size)\n",
    "    \"\"\"\n",
    "\n",
    "    S = X[:, inds.ravel()]\n",
    "    shape = inds.shape\n",
    "    return S.reshape(X.shape[0], shape[0] * shape[1], shape[2])\n",
    "\n",
    "def get_cov(S):\n",
    "    \"\"\"\n",
    "    S: np array of shape (n_channels, batch * n_windows, window_size)\n",
    "\n",
    "    returns: \n",
    "    C: np array of shape (batch * n_windows, n_channels*(n_channels - 1)/2)\n",
    "    \"\"\"\n",
    "    n_channels = S.shape[0]\n",
    "    C = np.zeros((S.shape[1], int(n_channels * (n_channels - 1) / 2)))\n",
    "    for win in range(S.shape[1]):\n",
    "        X = S[:, win, :] # shape (n_channels, n_samples)\n",
    "        C[win] = compute_covariance(X)\n",
    "\n",
    "    return C\n",
    "\n",
    "def convert(X, labels, frame=306, window=50, hop=32):\n",
    "    storage = os.path.join(path, 'converted')\n",
    "    if not os.path.isdir(storage):\n",
    "        os.mkdir(storage)\n",
    "\n",
    "    inds = get_listen_repeat_inds(labels)\n",
    "    inds = add_zero_inds(inds)\n",
    "    y = labels[inds]\n",
    "    inds = prolong_inds(inds, frame)\n",
    "    \n",
    "    inds = window_inds(inds, frame, window, hop)\n",
    "    S = split_signals(X, inds)\n",
    "    S = get_cov(S)\n",
    "\n",
    "    return S, y"
   ]
  },
  {
   "cell_type": "code",
   "execution_count": null,
   "metadata": {},
   "outputs": [],
   "source": [
    "some_inds = get_listen_repeat_inds(df.label.values)\n",
    "some_inds = add_zero_inds(some_inds)\n",
    "some_inds = prolong_inds(some_inds, 5)\n",
    "df.label[some_inds].values[:1000]"
   ]
  },
  {
   "cell_type": "code",
   "execution_count": 51,
   "metadata": {},
   "outputs": [
    {
     "data": {
      "text/plain": [
       "((3267, 36), (363,))"
      ]
     },
     "execution_count": 51,
     "metadata": {},
     "output_type": "execute_result"
    }
   ],
   "source": [
    "X = df.iloc[:, 2:].to_numpy().T\n",
    "labels = df.label.values\n",
    "\n",
    "S, y = convert(X, labels)\n",
    "S.shape, y.shape"
   ]
  },
  {
   "cell_type": "code",
   "execution_count": 52,
   "metadata": {},
   "outputs": [
    {
     "data": {
      "text/plain": [
       "array([16,  6,  0, 17,  7,  0, 14,  4,  0, 17,  7,  0, 13,  3,  0, 17,  7,\n",
       "        0, 17,  7,  0, 11,  1,  0, 15,  5,  0, 16,  6,  0, 12,  2,  0, 14,\n",
       "        4,  0, 11,  1,  0, 15,  5,  0, 11,  1,  0, 15,  5,  0, 17,  7,  0,\n",
       "       14,  4,  0, 16,  6,  0, 15,  5,  0, 15,  5,  0, 15,  5,  0, 13,  3,\n",
       "        0, 17,  7,  0, 16,  6,  0, 14,  4,  0, 15,  5,  0, 11,  1,  0, 16,\n",
       "        6,  0, 12,  2,  0, 11,  1,  0, 16,  6,  0, 16,  6,  0, 12,  2,  0,\n",
       "       14,  4,  0, 13,  3,  0, 11,  1,  0, 17,  7,  0, 11,  1,  0, 12,  2,\n",
       "        0, 15,  5,  0, 15,  5,  0, 14,  4,  0, 16,  6,  0, 17,  7,  0, 12,\n",
       "        2,  0, 14,  4,  0, 12,  2,  0, 16,  6,  0, 13,  3,  0, 13,  3,  0,\n",
       "       17,  7,  0, 15,  5,  0, 14,  4,  0, 12,  2,  0, 15,  5,  0, 12,  2,\n",
       "        0, 17,  7,  0, 13,  3,  0, 15,  5,  0, 17,  7,  0, 16,  6,  0, 13,\n",
       "        3,  0, 12,  2,  0, 13,  3,  0, 13,  3,  0, 13,  3,  0, 14,  4,  0,\n",
       "       16,  6,  0, 17,  7,  0, 12,  2,  0, 16,  6,  0, 11,  1,  0, 12,  2,\n",
       "        0, 14,  4,  0, 13,  3,  0, 17,  7,  0, 13,  3,  0, 16,  6,  0, 17,\n",
       "        7,  0, 11,  1,  0, 13,  3,  0, 17,  7,  0, 11,  1,  0, 17,  7,  0,\n",
       "       17,  7,  0, 13,  3,  0, 11,  1,  0, 17,  7,  0, 11,  1,  0, 17,  7,\n",
       "        0, 15,  5,  0, 13,  3,  0, 12,  2,  0, 11,  1,  0, 11,  1,  0, 15,\n",
       "        5,  0, 11,  1,  0, 13,  3,  0, 13,  3,  0, 11,  1,  0, 15,  5,  0,\n",
       "       15,  5,  0, 14,  4,  0, 12,  2,  0, 11,  1,  0, 12,  2,  0, 12,  2,\n",
       "        0, 16,  6,  0, 11,  1,  0, 14,  4,  0, 11,  1,  0, 15,  5,  0, 16,\n",
       "        6,  0, 15,  5,  0, 11,  1,  0, 15,  5,  0, 12,  2,  0, 14,  4,  0,\n",
       "       17,  7,  0, 13,  3,  0])"
      ]
     },
     "execution_count": 52,
     "metadata": {},
     "output_type": "execute_result"
    }
   ],
   "source": [
    "y"
   ]
  },
  {
   "attachments": {},
   "cell_type": "markdown",
   "metadata": {},
   "source": [
    "### Covariance Matrix Parameters:\n",
    "\n",
    "    1.  window (row): 50ms (50 samples) -- 1102 sound samples (6 fft windows)\n",
    "    2.  HOP_LENGTH: 32ms (32 samples)\n",
    "    3.  frame size: 306 samples\n",
    "    4.  9 windows\n",
    "\n",
    "### STFT Parameters:\n",
    "\n",
    "    1.  FRAME_SIZE = 512\n",
    "    2.  SR = 22050\n",
    "    3.  HOP_LENGTH = 118\n",
    "    4.  Each row: 1102 samples = 6 windows. Entire phoneme = 9 rows (6766 samples)\n"
   ]
  }
 ],
 "metadata": {
  "kernelspec": {
   "display_name": "Python 3",
   "language": "python",
   "name": "python3"
  },
  "language_info": {
   "codemirror_mode": {
    "name": "ipython",
    "version": 3
   },
   "file_extension": ".py",
   "mimetype": "text/x-python",
   "name": "python",
   "nbconvert_exporter": "python",
   "pygments_lexer": "ipython3",
   "version": "3.8.10"
  },
  "orig_nbformat": 4,
  "vscode": {
   "interpreter": {
    "hash": "916dbcbb3f70747c44a77c7bcd40155683ae19c65e1c03b4aa3499c5328201f1"
   }
  }
 },
 "nbformat": 4,
 "nbformat_minor": 2
}
